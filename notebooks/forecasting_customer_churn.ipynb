{
 "cells": [
  {
   "cell_type": "markdown",
   "metadata": {},
   "source": [
    "# <center> **Предсказание оттока клиентов**\n",
    "## <center> **Цели**\n",
    "    \n",
    "**1. Проанализировать данные и определить оптимальную методологию определения отточных клиентов**\n",
    "    \n",
    "**2. Разработать модель вероятности оттока клиентов по выбранной методологии**\n",
    "    \n",
    "**3. Дать интерпретацию разработанной модели, ответить на вопросы: какие признаки наиболее влияют на отток клиентов**"
   ]
  },
  {
   "cell_type": "markdown",
   "metadata": {},
   "source": [
    "## Описание датасета:\n",
    "* Чековые данные по транзакциям (transactions.parquet)\n",
    "\n",
    "    * **chq_id:** ID of transaction (Primary key)\n",
    "    * **plant:** ID of store (Foreign key for table plants)\n",
    "    * **chq_date:** Date of transactions\n",
    "    * **chq_position:** Position of material in transaction\n",
    "    * **client_id:** ID of client (Foreign key for table clients)\n",
    "    * **material:** ID of material (Foreign key for table materials)\n",
    "    * **sales_count:** Count of item in the check position\n",
    "    * **sales_sum:** Amount in the rubles by the check position\n",
    "    * **is_promo:** Fact of slling the position of the check for promo\n",
    "    \n",
    "    \n",
    "* Справочник товаров (materials.csv)\n",
    "\n",
    "    * **plant** (Primary key)\n",
    "    * **hier_level_1:** 1st level of items hierarchy\n",
    "    * **hier_level_2:** 2nd level of items hierarchy\n",
    "    * **hier_level_3:** 3rd level of items hierarchy\n",
    "    * **hier_level_4:** 4th level of items hierarchy\n",
    "    * **vendor:** Vendor of item\n",
    "    * **is_private_label:** Own brand mark\n",
    "    * **is_alco:** Sign of alcoholic beverages\n",
    "\n",
    "\n",
    "* Справочник клиентов (clients.csv)\n",
    "\n",
    "    * **client_id** (Primary key)\n",
    "    * **gender**\n",
    "    * **city**\n",
    "    * **birthyear**\n",
    "\n",
    "\n",
    "* Справочник магазинов (plants.csv)\n",
    "\n",
    "    * **plant** (Primary key)\n",
    "    * **plant_type**\n",
    "    * **city**"
   ]
  },
  {
   "cell_type": "code",
   "execution_count": 1,
   "metadata": {},
   "outputs": [],
   "source": [
    "import pandas as pd\n",
    "import numpy as np\n",
    "import matplotlib.pyplot as plt\n",
    "%matplotlib inline\n",
    "import seaborn as sns"
   ]
  },
  {
   "cell_type": "code",
   "execution_count": 2,
   "metadata": {},
   "outputs": [],
   "source": [
    "from pyspark.sql import SQLContext\n",
    "from pyspark import SparkContext, SparkConf\n",
    "import pyspark as ps\n",
    "from pyspark.sql import SparkSession"
   ]
  },
  {
   "cell_type": "code",
   "execution_count": 3,
   "metadata": {},
   "outputs": [],
   "source": [
    "spark = SparkSession.builder \\\n",
    "    .master('local') \\\n",
    "    .appName('jun DS') \\\n",
    "    .config('spark.executor.memory', '4gb') \\\n",
    "    .config('spark.executor.cores', '4')\\\n",
    "    .config(\"spark.cores.max\", \"6\") \\\n",
    "    .config('spark.driver.memory','4g')\\\n",
    "    .getOrCreate()"
   ]
  },
  {
   "cell_type": "markdown",
   "metadata": {},
   "source": [
    "# <center> 1. Определение отточных клиентов"
   ]
  },
  {
   "cell_type": "markdown",
   "metadata": {},
   "source": [
    "**В рамках моего понимания решения задачи определения отточных клиентов, достаточно проанализировать данные по транзакциям покупателей, далее используя так скажем обоснованную \"эвристику\", определим тех клиентов, которые покинули рынок**"
   ]
  },
  {
   "cell_type": "code",
   "execution_count": 4,
   "metadata": {},
   "outputs": [],
   "source": [
    "sc = spark.sparkContext\n",
    "sqlContext = SQLContext(sc)\n",
    "transactions = sqlContext.read.parquet('transactions.parquet')"
   ]
  },
  {
   "cell_type": "code",
   "execution_count": 5,
   "metadata": {},
   "outputs": [
    {
     "name": "stdout",
     "output_type": "stream",
     "text": [
      "root\n",
      " |-- chq_id: string (nullable = true)\n",
      " |-- plant: string (nullable = true)\n",
      " |-- chq_date: timestamp (nullable = true)\n",
      " |-- chq_position: string (nullable = true)\n",
      " |-- client_id: string (nullable = true)\n",
      " |-- material: string (nullable = true)\n",
      " |-- sales_count: double (nullable = true)\n",
      " |-- sales_sum: double (nullable = true)\n",
      " |-- is_promo: long (nullable = true)\n",
      "\n"
     ]
    }
   ],
   "source": [
    "transactions.printSchema()"
   ]
  },
  {
   "cell_type": "code",
   "execution_count": 6,
   "metadata": {},
   "outputs": [
    {
     "data": {
      "text/plain": [
       "32109414"
      ]
     },
     "execution_count": 6,
     "metadata": {},
     "output_type": "execute_result"
    }
   ],
   "source": [
    "transactions.count()"
   ]
  },
  {
   "cell_type": "code",
   "execution_count": 7,
   "metadata": {},
   "outputs": [],
   "source": [
    "from pyspark.sql.functions import col, count, isnan, when"
   ]
  },
  {
   "cell_type": "markdown",
   "metadata": {},
   "source": [
    "Проверим данные по транзакциям на наличие пропущенных значений."
   ]
  },
  {
   "cell_type": "code",
   "execution_count": 8,
   "metadata": {
    "scrolled": true
   },
   "outputs": [
    {
     "name": "stdout",
     "output_type": "stream",
     "text": [
      "+------+-----+--------+------------+---------+--------+-----------+---------+--------+\n",
      "|chq_id|plant|chq_date|chq_position|client_id|material|sales_count|sales_sum|is_promo|\n",
      "+------+-----+--------+------------+---------+--------+-----------+---------+--------+\n",
      "|     0|    0|       0|           0|        0|       0|          0|        0|       0|\n",
      "+------+-----+--------+------------+---------+--------+-----------+---------+--------+\n",
      "\n"
     ]
    }
   ],
   "source": [
    "transactions.select([count(when(col(c).isNull(), c)).alias(c) for c in transactions.columns]).show()"
   ]
  },
  {
   "cell_type": "markdown",
   "metadata": {},
   "source": [
    "Описательная статистика"
   ]
  },
  {
   "cell_type": "code",
   "execution_count": 9,
   "metadata": {
    "scrolled": true
   },
   "outputs": [
    {
     "name": "stdout",
     "output_type": "stream",
     "text": [
      "+-------+------------------+------------------+\n",
      "|summary|       sales_count|         sales_sum|\n",
      "+-------+------------------+------------------+\n",
      "|  count|          32109414|          32109414|\n",
      "|   mean|1.3192295561980023|122.88696971533868|\n",
      "| stddev|2.0153870890755163|250.20021159116604|\n",
      "|    min|           -1656.0|          -98388.0|\n",
      "|    max|            3000.0|          198571.5|\n",
      "+-------+------------------+------------------+\n",
      "\n"
     ]
    }
   ],
   "source": [
    "transactions.describe(['sales_count','sales_sum']).show()"
   ]
  },
  {
   "cell_type": "markdown",
   "metadata": {},
   "source": [
    "Заметим, что существуют отрицательные значения по фактору (sales_sum), соответственно подобные транзакции принимаем за возврат, например клиент случайно приобрел товар, либо кассир ошибся и условно пробил один и тот же товар два раза. Данные не являются репрезентативными и не несут никакой информации."
   ]
  },
  {
   "cell_type": "code",
   "execution_count": 10,
   "metadata": {},
   "outputs": [],
   "source": [
    "transactions = transactions.filter('sales_sum >= 0')"
   ]
  },
  {
   "cell_type": "markdown",
   "metadata": {},
   "source": [
    "Интересно будет узнать за какой период предоставлены данные"
   ]
  },
  {
   "cell_type": "code",
   "execution_count": 11,
   "metadata": {},
   "outputs": [],
   "source": [
    "from pyspark.sql import functions as F"
   ]
  },
  {
   "cell_type": "code",
   "execution_count": 12,
   "metadata": {},
   "outputs": [
    {
     "name": "stdout",
     "output_type": "stream",
     "text": [
      "+-------------------+-------------------+\n",
      "|  Начало транзакций|   Конец транзакций|\n",
      "+-------------------+-------------------+\n",
      "|2016-10-04 03:00:00|2017-10-04 03:00:00|\n",
      "+-------------------+-------------------+\n",
      "\n"
     ]
    }
   ],
   "source": [
    "transactions\\\n",
    "    .agg(F.min('chq_date'), F.max('chq_date'))\\\n",
    "    .withColumnRenamed('min(chq_date)','Начало транзакций')\\\n",
    "    .withColumnRenamed('max(chq_date)','Конец транзакций')\\\n",
    "    .show()"
   ]
  },
  {
   "cell_type": "markdown",
   "metadata": {},
   "source": [
    "Как видно из таблицы выше, в transaction хранится информация по транзациям за 1 год."
   ]
  },
  {
   "cell_type": "code",
   "execution_count": 13,
   "metadata": {},
   "outputs": [],
   "source": [
    "from pyspark.sql.functions import *"
   ]
  },
  {
   "cell_type": "markdown",
   "metadata": {},
   "source": [
    "Создадим новые переменные. unix-timestamp и date (год-месяц-день), в дальнейшем они нам пригодятся"
   ]
  },
  {
   "cell_type": "code",
   "execution_count": 14,
   "metadata": {},
   "outputs": [],
   "source": [
    "transactions = transactions\\\n",
    "                    .withColumn('unix', unix_timestamp(transactions.chq_date))"
   ]
  },
  {
   "cell_type": "code",
   "execution_count": 15,
   "metadata": {},
   "outputs": [],
   "source": [
    "transactions = transactions\\\n",
    "                    .withColumn(\"date\",to_date(col(\"chq_date\"),\"yyyy-MM-dd\"))"
   ]
  },
  {
   "cell_type": "markdown",
   "metadata": {},
   "source": [
    "По предоставленным данным нет разметки по клиентам, которые перестали посещать магазин. \n",
    "Первое, что приходит в голову, это посчитать промежутки между походами в магазин для каждого клиента и посмотреть на картину в целом."
   ]
  },
  {
   "cell_type": "code",
   "execution_count": 16,
   "metadata": {},
   "outputs": [],
   "source": [
    "# Будем считать, что если клиент в какой-то день побывал в магазине минимум 1 раз, то это считается за посещение.\n",
    "# (т.к в течении дня он может побывать несколько раз)\n",
    "# Посчитаем среднюю разницу в днях между посещениями для кжадого клиента,  преобразуем все в одномерное пр-во.\n",
    "\n",
    "gaps = transactions\\\n",
    "            .select('client_id','date','unix')\\\n",
    "            .dropDuplicates(['client_id','date'])\\\n",
    "            .toPandas()\\\n",
    "            .sort_values(['client_id','unix'])\\\n",
    "            .groupby('client_id')['unix']\\\n",
    "            .apply(list)\\\n",
    "            .apply(np.diff)\\\n",
    "            .values"
   ]
  },
  {
   "cell_type": "code",
   "execution_count": 17,
   "metadata": {},
   "outputs": [],
   "source": [
    "# Очевидно, что у тех клиентов, которые побывали в магазине только 1 раз, первая разница возвращает пустой лист,\n",
    "# с помощью цикла избавимся от них.\n",
    "# Завернем в пандасовскую серию для удобства.\n",
    "\n",
    "gaps_list = []\n",
    "for i in gaps:\n",
    "    if i.shape[0] > 0:\n",
    "        gaps_list.append(i.mean())\n",
    "gaps_list = pd.Series(gaps_list)/(24*60*60)"
   ]
  },
  {
   "cell_type": "markdown",
   "metadata": {},
   "source": [
    "Посмотрим на распределение, для понимания общей картины"
   ]
  },
  {
   "cell_type": "code",
   "execution_count": 18,
   "metadata": {},
   "outputs": [
    {
     "data": {
      "text/plain": [
       "<AxesSubplot:>"
      ]
     },
     "execution_count": 18,
     "metadata": {},
     "output_type": "execute_result"
    },
    {
     "data": {
      "image/png": "[encoded data removed]",
      "text/plain": [
       "<Figure size 432x216 with 1 Axes>"
      ]
     },
     "metadata": {
      "needs_background": "light"
     },
     "output_type": "display_data"
    }
   ],
   "source": [
    "fig, axs = plt.subplots(figsize = (6,3))\n",
    "gaps_list.hist(bins = 30)"
   ]
  },
  {
   "cell_type": "code",
   "execution_count": 19,
   "metadata": {},
   "outputs": [
    {
     "data": {
      "text/plain": [
       "<AxesSubplot:>"
      ]
     },
     "execution_count": 19,
     "metadata": {},
     "output_type": "execute_result"
    },
    {
     "data": {
      "image/png": "[encoded data removed]",
      "text/plain": [
       "<Figure size 432x288 with 1 Axes>"
      ]
     },
     "metadata": {
      "needs_background": "light"
     },
     "output_type": "display_data"
    }
   ],
   "source": [
    "gaps_list[gaps_list < 100].hist(bins = 20)"
   ]
  },
  {
   "cell_type": "markdown",
   "metadata": {},
   "source": [
    "Распределение имеет тяжелый правый хвост. В большинстве случаях между походами в магазин временной промежуток составляетот 1 до 40 дней.\n",
    "Посмотрим значения квантилей уровней от 0.90 до 0.99"
   ]
  },
  {
   "cell_type": "code",
   "execution_count": 20,
   "metadata": {},
   "outputs": [
    {
     "name": "stdout",
     "output_type": "stream",
     "text": [
      "90 54.17\n",
      "91 56.8\n",
      "92 59.6\n",
      "93 63.5\n",
      "94 68.0\n",
      "95 73.25\n",
      "96 81.0\n",
      "97 89.25\n",
      "98 105.33\n",
      "99 137.0\n"
     ]
    }
   ],
   "source": [
    "for q,v in  enumerate(np.round(gaps_list.quantile(np.arange(0.90,1,0.01)),2)):\n",
    "    print(90+q,v)"
   ]
  },
  {
   "cell_type": "markdown",
   "metadata": {},
   "source": [
    "Будем считать, что клиент больше не является нашим клиентом, если он отсутствует более чем 81 день (квантиль уровня 0.96)\n",
    "Если брать 94-95-97 квантиль, точность модели падает и мной было принято решение, что 81 день достаточно оптимальный порог."
   ]
  },
  {
   "cell_type": "code",
   "execution_count": 21,
   "metadata": {},
   "outputs": [],
   "source": [
    "# Найдем верхнюю границу по времени для наших данных (2017-10-04 03:00:00) в формате unix-timestamp \n",
    "\n",
    "today = transactions.select('unix').agg({'unix':'max'}).collect()[0][0]"
   ]
  },
  {
   "cell_type": "code",
   "execution_count": 22,
   "metadata": {},
   "outputs": [],
   "source": [
    "# Порог по времени. Если клиент отсутствовал более чем threshold_leave, считаем, что для такого клиент churn = True\n",
    "\n",
    "threshold_leave = gaps_list.quantile(0.96)*24*60*60"
   ]
  },
  {
   "cell_type": "markdown",
   "metadata": {},
   "source": [
    "Пусть сегодняшняя дата = 2017-10-04 03:00:00"
   ]
  },
  {
   "cell_type": "markdown",
   "metadata": {},
   "source": [
    "Логично будет для каждого клиента определить последнюю дату визита, далее вычесть из сегодняшней даты (максимальный таймстемп по данным) дату последнего визита и сравнить с threshold_leave. То есть, если клиент не появлялся более чем 81 дней, будем считать, что он больше не вернется."
   ]
  },
  {
   "cell_type": "code",
   "execution_count": 23,
   "metadata": {},
   "outputs": [],
   "source": [
    "clients_churn = transactions\\\n",
    "                    .groupby('client_id')\\\n",
    "                    .agg(F.max('unix').alias('last_visit'))\\\n",
    "                    .withColumn(\"today\",lit(today))\\\n",
    "                    .withColumn(\"lag\",F.col('today') - F.col('last_visit'))\\\n",
    "                    .withColumn('churn',F.col('lag') > lit(threshold_leave))"
   ]
  },
  {
   "cell_type": "code",
   "execution_count": 24,
   "metadata": {},
   "outputs": [
    {
     "name": "stdout",
     "output_type": "stream",
     "text": [
      "+--------------------+----------+----------+--------+-----+\n",
      "|           client_id|last_visit|     today|     lag|churn|\n",
      "+--------------------+----------+----------+--------+-----+\n",
      "|eb09b11a1efb6e12f...|1496275200|1507075200|10800000| true|\n",
      "|53acf04359f36317b...|1501718400|1507075200| 5356800|false|\n",
      "|61d608187fef00a3d...|1503792000|1507075200| 3283200|false|\n",
      "|41a98e24b9dc54df9...|1506729600|1507075200|  345600|false|\n",
      "|d56ed3455ee141a02...|1481846400|1507075200|25228800| true|\n",
      "+--------------------+----------+----------+--------+-----+\n",
      "only showing top 5 rows\n",
      "\n"
     ]
    }
   ],
   "source": [
    "clients_churn.show(5)"
   ]
  },
  {
   "cell_type": "code",
   "execution_count": 25,
   "metadata": {},
   "outputs": [
    {
     "data": {
      "text/plain": [
       "100000"
      ]
     },
     "execution_count": 25,
     "metadata": {},
     "output_type": "execute_result"
    }
   ],
   "source": [
    "# Лишний раз убедимся, что во время преобразований данных, не потеряли ни одного клиента\n",
    "\n",
    "clients_churn.count()"
   ]
  },
  {
   "cell_type": "code",
   "execution_count": 26,
   "metadata": {},
   "outputs": [
    {
     "name": "stdout",
     "output_type": "stream",
     "text": [
      "+-----+----------------+\n",
      "|churn|count(client_id)|\n",
      "+-----+----------------+\n",
      "| true|           28105|\n",
      "|false|           71895|\n",
      "+-----+----------------+\n",
      "\n"
     ]
    }
   ],
   "source": [
    "# Посмотрим на соотношение тех кто ушел и тех кто остался.\n",
    "#Видим, что около 28 процентов покупателей перестали быть нашими клиентами\n",
    "\n",
    "clients_churn\\\n",
    "        .groupby('churn')\\\n",
    "        .agg(F.count('client_id'))\\\n",
    "        .show()\n"
   ]
  },
  {
   "cell_type": "markdown",
   "metadata": {},
   "source": [
    "**Задача предсказания оттока клиентов состоит в том, чтобы как можно раньше предсказать уйдет клиент или нет, с целью примения различных мер по его удержанию. \n",
    "Допустим мы хотим анализировать поведение покупателя за первые его два месяца посещения (63 дня) и сделать прогноз, останется он с нами или нет, а далее есть достаточное количество времени (около 20 дней, т.к трешолд в 81 день не есть истинное значение порога, может меньше/больше) для мер по его удержанию. ( удержать клиентов дешевле, чем привлечь новых)**"
   ]
  },
  {
   "cell_type": "code",
   "execution_count": 27,
   "metadata": {},
   "outputs": [],
   "source": [
    "n = 63\n",
    "time_analyse = n*24*60*60 # Время с первой покупки, за которое будем анализировать клиентов"
   ]
  },
  {
   "cell_type": "code",
   "execution_count": 28,
   "metadata": {},
   "outputs": [],
   "source": [
    "from pyspark.sql.types import StringType, IntegerType, TimestampType\n"
   ]
  },
  {
   "cell_type": "markdown",
   "metadata": {},
   "source": [
    "Создадим промежуточный df. Для каждого клиента определим его время с момента первой покупки + время за которое анализируем его поведение"
   ]
  },
  {
   "cell_type": "code",
   "execution_count": 29,
   "metadata": {},
   "outputs": [],
   "source": [
    "# client_id = id клиента\n",
    "# first_visit = первое посещение клиента\n",
    "# life_time = первое посещение клиента + время за которое проводится анализ поведения покупателя (time_analyse)\n",
    "\n",
    "client_time = transactions\\\n",
    "                    .select('client_id', 'unix')\\\n",
    "                    .groupby('client_id')\\\n",
    "                    .agg(F.min('unix').alias('first_visit'))\\\n",
    "                    .withColumn('life_time', F.col('first_visit') + lit(time_analyse))"
   ]
  },
  {
   "cell_type": "code",
   "execution_count": 30,
   "metadata": {},
   "outputs": [],
   "source": [
    "# Замержим данные по транзакциям с client_time и возьмем только те данные,\n",
    "# которые соответствуют времени с момента первой покупки + 63 дня\n",
    "\n",
    "transactions_train = transactions\\\n",
    "                        .join(client_time, 'client_id', 'left')\\\n",
    "                        .filter(col('unix') <= col('life_time'))\\\n",
    "                        .drop('chq_position','life_time','date','chq_date')"
   ]
  },
  {
   "cell_type": "markdown",
   "metadata": {},
   "source": [
    "**Таким образом, в transactions_train лежат все данные по транзациям клиентов за их первые 63 дня с момента, когда они совершили первую покупку в магазине (условно, на самом деле не для всех это утверждение верно, т.к данные за период 2016-10-04 по 2017-10-04 и некоторые клиенты могли совершать первые покупки еще до 2016-10-04, но предполагаю, что данные предоставлены только для новых уникальных клиентов с 2016-10-04)**"
   ]
  },
  {
   "cell_type": "markdown",
   "metadata": {},
   "source": [
    "# <center> 2. Data preprocessing - Model - Testing"
   ]
  },
  {
   "cell_type": "markdown",
   "metadata": {},
   "source": [
    "**На данном этапе будут генерироваться факторы и анализироваться тестовые модели, все шаги будут последовательные. Новые фичи -> Модель -> Проверка качества -> Добавление новых переменных -> Модель -> Проверка качества и так рекурентно**"
   ]
  },
  {
   "cell_type": "markdown",
   "metadata": {},
   "source": [
    "На данном этапе работы пора уже собирать данные для построения вероятностной модели оттока. (генерить фичи и т.п)"
   ]
  },
  {
   "cell_type": "markdown",
   "metadata": {},
   "source": [
    "### 2.1 Clients data "
   ]
  },
  {
   "cell_type": "code",
   "execution_count": 31,
   "metadata": {},
   "outputs": [],
   "source": [
    "client_train = clients_churn\\\n",
    "                    .select('client_id','churn')"
   ]
  },
  {
   "cell_type": "markdown",
   "metadata": {},
   "source": [
    "Данные по клиентам"
   ]
  },
  {
   "cell_type": "code",
   "execution_count": 32,
   "metadata": {},
   "outputs": [],
   "source": [
    "clients = spark.read.csv('clients.csv', header=True, inferSchema=True) "
   ]
  },
  {
   "cell_type": "code",
   "execution_count": 33,
   "metadata": {},
   "outputs": [],
   "source": [
    "# Добавим данные по клиентам в трейн датасет\n",
    "\n",
    "client_train = client_train.join(clients,'client_id', 'left')"
   ]
  },
  {
   "cell_type": "code",
   "execution_count": 34,
   "metadata": {},
   "outputs": [
    {
     "name": "stdout",
     "output_type": "stream",
     "text": [
      "+---------+-----+------+----+---------+\n",
      "|client_id|churn|gender|city|birthyear|\n",
      "+---------+-----+------+----+---------+\n",
      "|        0|    0|   360|   5|     1781|\n",
      "+---------+-----+------+----+---------+\n",
      "\n"
     ]
    }
   ],
   "source": [
    "client_train.select([count(when(col(c).isNull(), c)).alias(c) for c in client_train.columns]).show()"
   ]
  },
  {
   "cell_type": "markdown",
   "metadata": {},
   "source": [
    "**Видно, что в признаках gender, city, birthyear есть пропуски. Скорее всего те, кто не долго собираются оставаться на рынке, не заполняют свои данные, соответственно заменим пропущенные значения на \"none\"**"
   ]
  },
  {
   "cell_type": "markdown",
   "metadata": {},
   "source": [
    "Следовательно будет логично для каждый пропуск в переменной gender заменить на gender ='none_g' "
   ]
  },
  {
   "cell_type": "code",
   "execution_count": 35,
   "metadata": {},
   "outputs": [],
   "source": [
    "client_train = client_train.fillna('none_g', subset = ['gender'])"
   ]
  },
  {
   "cell_type": "markdown",
   "metadata": {},
   "source": [
    "Переменную churn преобразуем следующим образом:"
   ]
  },
  {
   "cell_type": "code",
   "execution_count": 36,
   "metadata": {},
   "outputs": [],
   "source": [
    "from pyspark.sql.functions import col , udf\n",
    "\n",
    "churn_dict = {False : 0, True : 1}\n",
    "\n",
    "map_func = udf(lambda row : churn_dict.get(row,row), IntegerType())\n",
    "\n",
    "client_train = client_train.withColumn(\"churn\", map_func(col(\"churn\")).cast(IntegerType()))"
   ]
  },
  {
   "cell_type": "markdown",
   "metadata": {},
   "source": [
    "Пропуски в переменной city заменим на none_city"
   ]
  },
  {
   "cell_type": "code",
   "execution_count": 37,
   "metadata": {},
   "outputs": [],
   "source": [
    "client_train = client_train.fillna('none_city', subset = ['city'])"
   ]
  },
  {
   "cell_type": "markdown",
   "metadata": {},
   "source": [
    "Есть смысл преобразовать признак birthyear в возраст, а далее разбить на группы:\n",
    "\n",
    "**От 0 до 25 = young**\n",
    "\n",
    "**От 26 до 40 = middle**\n",
    "\n",
    "**От 41 до 63 = mature**\n",
    "\n",
    "**От 64 и более = old**"
   ]
  },
  {
   "cell_type": "code",
   "execution_count": 38,
   "metadata": {},
   "outputs": [],
   "source": [
    "today_year = 2017.0"
   ]
  },
  {
   "cell_type": "code",
   "execution_count": 39,
   "metadata": {},
   "outputs": [],
   "source": [
    "def age_group(x):\n",
    "    return np.where(x==0, 'none_age', \n",
    "                    np.where(x <= 25, 'young', \n",
    "                             np.where(x <= 40, 'middle', \n",
    "                                      np.where(x<= 63,'mature','old')))).item()"
   ]
  },
  {
   "cell_type": "code",
   "execution_count": 40,
   "metadata": {},
   "outputs": [],
   "source": [
    "age_group_udf = udf(age_group,StringType())\n",
    "\n",
    "client_train = client_train\\\n",
    "                    .fillna(today_year, subset = ['birthyear'])\\\n",
    "                    .withColumn('age',lit(today_year) - F.col('birthyear'))\\\n",
    "                    .withColumn('age_group',age_group_udf(F.col('age')).cast(StringType()))\\\n",
    "                    .drop('birthyear','age')"
   ]
  },
  {
   "cell_type": "markdown",
   "metadata": {},
   "source": [
    "**Посмотрим на распределения факторов в зависимости от churn**"
   ]
  },
  {
   "cell_type": "code",
   "execution_count": 41,
   "metadata": {},
   "outputs": [],
   "source": [
    "client_train_df = client_train.toPandas()"
   ]
  },
  {
   "cell_type": "code",
   "execution_count": 42,
   "metadata": {},
   "outputs": [
    {
     "data": {
      "text/html": [
       "<div>\n",
       "<style scoped>\n",
       "    .dataframe tbody tr th:only-of-type {\n",
       "        vertical-align: middle;\n",
       "    }\n",
       "\n",
       "    .dataframe tbody tr th {\n",
       "        vertical-align: top;\n",
       "    }\n",
       "\n",
       "    .dataframe thead th {\n",
       "        text-align: right;\n",
       "    }\n",
       "</style>\n",
       "<table border=\"1\" class=\"dataframe\">\n",
       "  <thead>\n",
       "    <tr style=\"text-align: right;\">\n",
       "      <th>age_group</th>\n",
       "      <th>mature</th>\n",
       "      <th>middle</th>\n",
       "      <th>none_age</th>\n",
       "      <th>old</th>\n",
       "      <th>young</th>\n",
       "    </tr>\n",
       "    <tr>\n",
       "      <th>churn</th>\n",
       "      <th></th>\n",
       "      <th></th>\n",
       "      <th></th>\n",
       "      <th></th>\n",
       "      <th></th>\n",
       "    </tr>\n",
       "  </thead>\n",
       "  <tbody>\n",
       "    <tr>\n",
       "      <th>0</th>\n",
       "      <td>0.385</td>\n",
       "      <td>0.395</td>\n",
       "      <td>0.016</td>\n",
       "      <td>0.087</td>\n",
       "      <td>0.117</td>\n",
       "    </tr>\n",
       "    <tr>\n",
       "      <th>1</th>\n",
       "      <td>0.354</td>\n",
       "      <td>0.369</td>\n",
       "      <td>0.022</td>\n",
       "      <td>0.111</td>\n",
       "      <td>0.145</td>\n",
       "    </tr>\n",
       "  </tbody>\n",
       "</table>\n",
       "</div>"
      ],
      "text/plain": [
       "age_group  mature  middle  none_age    old  young\n",
       "churn                                            \n",
       "0           0.385   0.395     0.016  0.087  0.117\n",
       "1           0.354   0.369     0.022  0.111  0.145"
      ]
     },
     "execution_count": 42,
     "metadata": {},
     "output_type": "execute_result"
    }
   ],
   "source": [
    "# age_group\n",
    "age_group_distribution = client_train_df\\\n",
    "                                .groupby('churn')\\\n",
    "                                .age_group\\\n",
    "                                .value_counts(normalize = True)\\\n",
    "                                .to_frame()\\\n",
    "                                .rename(columns = {'age_group':\"percent\"})\\\n",
    "                                .reset_index()\\\n",
    "                                .pivot(index = 'churn', columns = 'age_group',values = 'percent')\\\n",
    "                                .round(3)\n",
    "age_group_distribution"
   ]
  },
  {
   "cell_type": "code",
   "execution_count": 43,
   "metadata": {},
   "outputs": [
    {
     "data": {
      "text/html": [
       "<div>\n",
       "<style scoped>\n",
       "    .dataframe tbody tr th:only-of-type {\n",
       "        vertical-align: middle;\n",
       "    }\n",
       "\n",
       "    .dataframe tbody tr th {\n",
       "        vertical-align: top;\n",
       "    }\n",
       "\n",
       "    .dataframe thead th {\n",
       "        text-align: right;\n",
       "    }\n",
       "</style>\n",
       "<table border=\"1\" class=\"dataframe\">\n",
       "  <thead>\n",
       "    <tr style=\"text-align: right;\">\n",
       "      <th>city</th>\n",
       "      <th>Moscow</th>\n",
       "      <th>Other</th>\n",
       "      <th>St. Petersburg</th>\n",
       "      <th>none_city</th>\n",
       "    </tr>\n",
       "    <tr>\n",
       "      <th>churn</th>\n",
       "      <th></th>\n",
       "      <th></th>\n",
       "      <th></th>\n",
       "      <th></th>\n",
       "    </tr>\n",
       "  </thead>\n",
       "  <tbody>\n",
       "    <tr>\n",
       "      <th>0</th>\n",
       "      <td>0.050</td>\n",
       "      <td>0.808</td>\n",
       "      <td>0.142</td>\n",
       "      <td>0.0</td>\n",
       "    </tr>\n",
       "    <tr>\n",
       "      <th>1</th>\n",
       "      <td>0.065</td>\n",
       "      <td>0.822</td>\n",
       "      <td>0.113</td>\n",
       "      <td>0.0</td>\n",
       "    </tr>\n",
       "  </tbody>\n",
       "</table>\n",
       "</div>"
      ],
      "text/plain": [
       "city   Moscow  Other  St. Petersburg  none_city\n",
       "churn                                          \n",
       "0       0.050  0.808           0.142        0.0\n",
       "1       0.065  0.822           0.113        0.0"
      ]
     },
     "execution_count": 43,
     "metadata": {},
     "output_type": "execute_result"
    }
   ],
   "source": [
    "# city\n",
    "city_distribution = client_train_df\\\n",
    "                            .groupby('churn')\\\n",
    "                            .city\\\n",
    "                            .value_counts(normalize = True)\\\n",
    "                            .to_frame()\\\n",
    "                            .rename(columns = {'city':\"percent\"})\\\n",
    "                            .reset_index()\\\n",
    "                            .pivot(index = 'churn', columns = 'city',values = 'percent')\\\n",
    "                            .round(3)\n",
    "city_distribution"
   ]
  },
  {
   "cell_type": "code",
   "execution_count": 44,
   "metadata": {
    "scrolled": true
   },
   "outputs": [
    {
     "data": {
      "text/html": [
       "<div>\n",
       "<style scoped>\n",
       "    .dataframe tbody tr th:only-of-type {\n",
       "        vertical-align: middle;\n",
       "    }\n",
       "\n",
       "    .dataframe tbody tr th {\n",
       "        vertical-align: top;\n",
       "    }\n",
       "\n",
       "    .dataframe thead th {\n",
       "        text-align: right;\n",
       "    }\n",
       "</style>\n",
       "<table border=\"1\" class=\"dataframe\">\n",
       "  <thead>\n",
       "    <tr style=\"text-align: right;\">\n",
       "      <th>gender</th>\n",
       "      <th>F</th>\n",
       "      <th>M</th>\n",
       "      <th>none_g</th>\n",
       "    </tr>\n",
       "    <tr>\n",
       "      <th>churn</th>\n",
       "      <th></th>\n",
       "      <th></th>\n",
       "      <th></th>\n",
       "    </tr>\n",
       "  </thead>\n",
       "  <tbody>\n",
       "    <tr>\n",
       "      <th>0</th>\n",
       "      <td>0.593</td>\n",
       "      <td>0.404</td>\n",
       "      <td>0.003</td>\n",
       "    </tr>\n",
       "    <tr>\n",
       "      <th>1</th>\n",
       "      <td>0.592</td>\n",
       "      <td>0.402</td>\n",
       "      <td>0.005</td>\n",
       "    </tr>\n",
       "  </tbody>\n",
       "</table>\n",
       "</div>"
      ],
      "text/plain": [
       "gender      F      M  none_g\n",
       "churn                       \n",
       "0       0.593  0.404   0.003\n",
       "1       0.592  0.402   0.005"
      ]
     },
     "execution_count": 44,
     "metadata": {},
     "output_type": "execute_result"
    }
   ],
   "source": [
    "# gender\n",
    "gender_distribution = client_train_df\\\n",
    "                            .groupby('churn')\\\n",
    "                            .gender\\\n",
    "                            .value_counts(normalize = True)\\\n",
    "                            .to_frame()\\\n",
    "                            .rename(columns = {'gender':\"percent\"})\\\n",
    "                            .reset_index()\\\n",
    "                            .pivot(index = 'churn', columns = 'gender',values = 'percent')\\\n",
    "                            .round(3)\n",
    "gender_distribution"
   ]
  },
  {
   "cell_type": "markdown",
   "metadata": {},
   "source": [
    "**Из вышепредоставленных таблиц, видно, что распределения по трем сгенерированным факторам не сильно меняются в зависимости от значения churn для клиента, все таки есть смысл их использовать для построения вероятностой модели, но большого влияния от этих переменных ожидать не стоит**"
   ]
  },
  {
   "cell_type": "markdown",
   "metadata": {},
   "source": [
    "Попробуем посмотреть на распределение конъюнкции признаков (gender, city, age_group) в зависимости от значения churn"
   ]
  },
  {
   "cell_type": "code",
   "execution_count": 45,
   "metadata": {},
   "outputs": [],
   "source": [
    "client_train_df['gender_age'] = client_train_df['gender'] + '_' + client_train_df['age_group']"
   ]
  },
  {
   "cell_type": "code",
   "execution_count": 46,
   "metadata": {},
   "outputs": [],
   "source": [
    "client_train_df['gender_city'] = client_train_df['gender'] + '_' + client_train_df['city']"
   ]
  },
  {
   "cell_type": "code",
   "execution_count": 47,
   "metadata": {},
   "outputs": [],
   "source": [
    "client_train_df['age_city'] = client_train_df['age_group'] + '_' + client_train_df['city']"
   ]
  },
  {
   "cell_type": "code",
   "execution_count": 48,
   "metadata": {},
   "outputs": [
    {
     "data": {
      "text/html": [
       "<div>\n",
       "<style scoped>\n",
       "    .dataframe tbody tr th:only-of-type {\n",
       "        vertical-align: middle;\n",
       "    }\n",
       "\n",
       "    .dataframe tbody tr th {\n",
       "        vertical-align: top;\n",
       "    }\n",
       "\n",
       "    .dataframe thead th {\n",
       "        text-align: right;\n",
       "    }\n",
       "</style>\n",
       "<table border=\"1\" class=\"dataframe\">\n",
       "  <thead>\n",
       "    <tr style=\"text-align: right;\">\n",
       "      <th>age_city</th>\n",
       "      <th>mature_Moscow</th>\n",
       "      <th>mature_Other</th>\n",
       "      <th>mature_St. Petersburg</th>\n",
       "      <th>middle_Moscow</th>\n",
       "      <th>middle_Other</th>\n",
       "      <th>middle_St. Petersburg</th>\n",
       "      <th>none_age_Moscow</th>\n",
       "      <th>none_age_Other</th>\n",
       "      <th>none_age_St. Petersburg</th>\n",
       "      <th>none_age_none_city</th>\n",
       "      <th>old_Moscow</th>\n",
       "      <th>old_Other</th>\n",
       "      <th>old_St. Petersburg</th>\n",
       "      <th>young_Moscow</th>\n",
       "      <th>young_Other</th>\n",
       "      <th>young_St. Petersburg</th>\n",
       "    </tr>\n",
       "    <tr>\n",
       "      <th>churn</th>\n",
       "      <th></th>\n",
       "      <th></th>\n",
       "      <th></th>\n",
       "      <th></th>\n",
       "      <th></th>\n",
       "      <th></th>\n",
       "      <th></th>\n",
       "      <th></th>\n",
       "      <th></th>\n",
       "      <th></th>\n",
       "      <th></th>\n",
       "      <th></th>\n",
       "      <th></th>\n",
       "      <th></th>\n",
       "      <th></th>\n",
       "      <th></th>\n",
       "    </tr>\n",
       "  </thead>\n",
       "  <tbody>\n",
       "    <tr>\n",
       "      <th>0</th>\n",
       "      <td>0.021</td>\n",
       "      <td>0.305</td>\n",
       "      <td>0.059</td>\n",
       "      <td>0.018</td>\n",
       "      <td>0.325</td>\n",
       "      <td>0.052</td>\n",
       "      <td>0.000</td>\n",
       "      <td>0.013</td>\n",
       "      <td>0.003</td>\n",
       "      <td>0.0</td>\n",
       "      <td>0.007</td>\n",
       "      <td>0.064</td>\n",
       "      <td>0.016</td>\n",
       "      <td>0.004</td>\n",
       "      <td>0.101</td>\n",
       "      <td>0.012</td>\n",
       "    </tr>\n",
       "    <tr>\n",
       "      <th>1</th>\n",
       "      <td>0.025</td>\n",
       "      <td>0.288</td>\n",
       "      <td>0.041</td>\n",
       "      <td>0.022</td>\n",
       "      <td>0.307</td>\n",
       "      <td>0.039</td>\n",
       "      <td>0.001</td>\n",
       "      <td>0.017</td>\n",
       "      <td>0.004</td>\n",
       "      <td>0.0</td>\n",
       "      <td>0.011</td>\n",
       "      <td>0.083</td>\n",
       "      <td>0.017</td>\n",
       "      <td>0.006</td>\n",
       "      <td>0.127</td>\n",
       "      <td>0.011</td>\n",
       "    </tr>\n",
       "  </tbody>\n",
       "</table>\n",
       "</div>"
      ],
      "text/plain": [
       "age_city  mature_Moscow  mature_Other  mature_St. Petersburg  middle_Moscow  \\\n",
       "churn                                                                         \n",
       "0                 0.021         0.305                  0.059          0.018   \n",
       "1                 0.025         0.288                  0.041          0.022   \n",
       "\n",
       "age_city  middle_Other  middle_St. Petersburg  none_age_Moscow  \\\n",
       "churn                                                            \n",
       "0                0.325                  0.052            0.000   \n",
       "1                0.307                  0.039            0.001   \n",
       "\n",
       "age_city  none_age_Other  none_age_St. Petersburg  none_age_none_city  \\\n",
       "churn                                                                   \n",
       "0                  0.013                    0.003                 0.0   \n",
       "1                  0.017                    0.004                 0.0   \n",
       "\n",
       "age_city  old_Moscow  old_Other  old_St. Petersburg  young_Moscow  \\\n",
       "churn                                                               \n",
       "0              0.007      0.064               0.016         0.004   \n",
       "1              0.011      0.083               0.017         0.006   \n",
       "\n",
       "age_city  young_Other  young_St. Petersburg  \n",
       "churn                                        \n",
       "0               0.101                 0.012  \n",
       "1               0.127                 0.011  "
      ]
     },
     "execution_count": 48,
     "metadata": {},
     "output_type": "execute_result"
    }
   ],
   "source": [
    "client_train_df\\\n",
    "            .groupby('churn')\\\n",
    "            .age_city\\\n",
    "            .value_counts(normalize = True)\\\n",
    "            .to_frame()\\\n",
    "            .rename(columns = {'age_city':'percent'})\\\n",
    "            .reset_index()\\\n",
    "            .pivot(index = 'churn',columns = 'age_city',values = 'percent')\\\n",
    "            .round(3)"
   ]
  },
  {
   "cell_type": "code",
   "execution_count": 49,
   "metadata": {},
   "outputs": [
    {
     "data": {
      "text/html": [
       "<div>\n",
       "<style scoped>\n",
       "    .dataframe tbody tr th:only-of-type {\n",
       "        vertical-align: middle;\n",
       "    }\n",
       "\n",
       "    .dataframe tbody tr th {\n",
       "        vertical-align: top;\n",
       "    }\n",
       "\n",
       "    .dataframe thead th {\n",
       "        text-align: right;\n",
       "    }\n",
       "</style>\n",
       "<table border=\"1\" class=\"dataframe\">\n",
       "  <thead>\n",
       "    <tr style=\"text-align: right;\">\n",
       "      <th>gender_city</th>\n",
       "      <th>F_Moscow</th>\n",
       "      <th>F_Other</th>\n",
       "      <th>F_St. Petersburg</th>\n",
       "      <th>M_Moscow</th>\n",
       "      <th>M_Other</th>\n",
       "      <th>M_St. Petersburg</th>\n",
       "      <th>none_g_Moscow</th>\n",
       "      <th>none_g_Other</th>\n",
       "      <th>none_g_St. Petersburg</th>\n",
       "      <th>none_g_none_city</th>\n",
       "    </tr>\n",
       "    <tr>\n",
       "      <th>churn</th>\n",
       "      <th></th>\n",
       "      <th></th>\n",
       "      <th></th>\n",
       "      <th></th>\n",
       "      <th></th>\n",
       "      <th></th>\n",
       "      <th></th>\n",
       "      <th></th>\n",
       "      <th></th>\n",
       "      <th></th>\n",
       "    </tr>\n",
       "  </thead>\n",
       "  <tbody>\n",
       "    <tr>\n",
       "      <th>0</th>\n",
       "      <td>0.031</td>\n",
       "      <td>0.486</td>\n",
       "      <td>0.076</td>\n",
       "      <td>0.019</td>\n",
       "      <td>0.320</td>\n",
       "      <td>0.065</td>\n",
       "      <td>0.0</td>\n",
       "      <td>0.003</td>\n",
       "      <td>0.0</td>\n",
       "      <td>0.0</td>\n",
       "    </tr>\n",
       "    <tr>\n",
       "      <th>1</th>\n",
       "      <td>0.040</td>\n",
       "      <td>0.491</td>\n",
       "      <td>0.061</td>\n",
       "      <td>0.024</td>\n",
       "      <td>0.326</td>\n",
       "      <td>0.052</td>\n",
       "      <td>0.0</td>\n",
       "      <td>0.005</td>\n",
       "      <td>0.0</td>\n",
       "      <td>0.0</td>\n",
       "    </tr>\n",
       "  </tbody>\n",
       "</table>\n",
       "</div>"
      ],
      "text/plain": [
       "gender_city  F_Moscow  F_Other  F_St. Petersburg  M_Moscow  M_Other  \\\n",
       "churn                                                                 \n",
       "0               0.031    0.486             0.076     0.019    0.320   \n",
       "1               0.040    0.491             0.061     0.024    0.326   \n",
       "\n",
       "gender_city  M_St. Petersburg  none_g_Moscow  none_g_Other  \\\n",
       "churn                                                        \n",
       "0                       0.065            0.0         0.003   \n",
       "1                       0.052            0.0         0.005   \n",
       "\n",
       "gender_city  none_g_St. Petersburg  none_g_none_city  \n",
       "churn                                                 \n",
       "0                              0.0               0.0  \n",
       "1                              0.0               0.0  "
      ]
     },
     "execution_count": 49,
     "metadata": {},
     "output_type": "execute_result"
    }
   ],
   "source": [
    "client_train_df\\\n",
    "            .groupby('churn')\\\n",
    "            .gender_city\\\n",
    "            .value_counts(normalize = True)\\\n",
    "            .to_frame()\\\n",
    "            .rename(columns = {'gender_city':'percent'})\\\n",
    "            .reset_index()\\\n",
    "            .pivot(index = 'churn',columns = 'gender_city',values = 'percent')\\\n",
    "            .round(3)"
   ]
  },
  {
   "cell_type": "code",
   "execution_count": 50,
   "metadata": {},
   "outputs": [
    {
     "data": {
      "text/html": [
       "<div>\n",
       "<style scoped>\n",
       "    .dataframe tbody tr th:only-of-type {\n",
       "        vertical-align: middle;\n",
       "    }\n",
       "\n",
       "    .dataframe tbody tr th {\n",
       "        vertical-align: top;\n",
       "    }\n",
       "\n",
       "    .dataframe thead th {\n",
       "        text-align: right;\n",
       "    }\n",
       "</style>\n",
       "<table border=\"1\" class=\"dataframe\">\n",
       "  <thead>\n",
       "    <tr style=\"text-align: right;\">\n",
       "      <th>gender_age</th>\n",
       "      <th>F_mature</th>\n",
       "      <th>F_middle</th>\n",
       "      <th>F_none_age</th>\n",
       "      <th>F_old</th>\n",
       "      <th>F_young</th>\n",
       "      <th>M_mature</th>\n",
       "      <th>M_middle</th>\n",
       "      <th>M_none_age</th>\n",
       "      <th>M_old</th>\n",
       "      <th>M_young</th>\n",
       "      <th>none_g_mature</th>\n",
       "      <th>none_g_middle</th>\n",
       "      <th>none_g_none_age</th>\n",
       "      <th>none_g_old</th>\n",
       "      <th>none_g_young</th>\n",
       "    </tr>\n",
       "    <tr>\n",
       "      <th>churn</th>\n",
       "      <th></th>\n",
       "      <th></th>\n",
       "      <th></th>\n",
       "      <th></th>\n",
       "      <th></th>\n",
       "      <th></th>\n",
       "      <th></th>\n",
       "      <th></th>\n",
       "      <th></th>\n",
       "      <th></th>\n",
       "      <th></th>\n",
       "      <th></th>\n",
       "      <th></th>\n",
       "      <th></th>\n",
       "      <th></th>\n",
       "    </tr>\n",
       "  </thead>\n",
       "  <tbody>\n",
       "    <tr>\n",
       "      <th>0</th>\n",
       "      <td>0.242</td>\n",
       "      <td>0.215</td>\n",
       "      <td>0.009</td>\n",
       "      <td>0.063</td>\n",
       "      <td>0.064</td>\n",
       "      <td>0.143</td>\n",
       "      <td>0.179</td>\n",
       "      <td>0.006</td>\n",
       "      <td>0.024</td>\n",
       "      <td>0.052</td>\n",
       "      <td>0.0</td>\n",
       "      <td>0.000</td>\n",
       "      <td>0.002</td>\n",
       "      <td>NaN</td>\n",
       "      <td>0.000</td>\n",
       "    </tr>\n",
       "    <tr>\n",
       "      <th>1</th>\n",
       "      <td>0.221</td>\n",
       "      <td>0.201</td>\n",
       "      <td>0.011</td>\n",
       "      <td>0.084</td>\n",
       "      <td>0.076</td>\n",
       "      <td>0.132</td>\n",
       "      <td>0.167</td>\n",
       "      <td>0.008</td>\n",
       "      <td>0.027</td>\n",
       "      <td>0.067</td>\n",
       "      <td>0.0</td>\n",
       "      <td>0.001</td>\n",
       "      <td>0.003</td>\n",
       "      <td>0.0</td>\n",
       "      <td>0.001</td>\n",
       "    </tr>\n",
       "  </tbody>\n",
       "</table>\n",
       "</div>"
      ],
      "text/plain": [
       "gender_age  F_mature  F_middle  F_none_age  F_old  F_young  M_mature  \\\n",
       "churn                                                                  \n",
       "0              0.242     0.215       0.009  0.063    0.064     0.143   \n",
       "1              0.221     0.201       0.011  0.084    0.076     0.132   \n",
       "\n",
       "gender_age  M_middle  M_none_age  M_old  M_young  none_g_mature  \\\n",
       "churn                                                             \n",
       "0              0.179       0.006  0.024    0.052            0.0   \n",
       "1              0.167       0.008  0.027    0.067            0.0   \n",
       "\n",
       "gender_age  none_g_middle  none_g_none_age  none_g_old  none_g_young  \n",
       "churn                                                                 \n",
       "0                   0.000            0.002         NaN         0.000  \n",
       "1                   0.001            0.003         0.0         0.001  "
      ]
     },
     "execution_count": 50,
     "metadata": {},
     "output_type": "execute_result"
    }
   ],
   "source": [
    "client_train_df\\\n",
    "            .groupby('churn')\\\n",
    "            .gender_age\\\n",
    "            .value_counts(normalize = True)\\\n",
    "            .to_frame()\\\n",
    "            .rename(columns = {'gender_age':'percent'})\\\n",
    "            .reset_index()\\\n",
    "            .pivot(index = 'churn',columns = 'gender_age',values = 'percent')\\\n",
    "            .round(3)"
   ]
  },
  {
   "cell_type": "markdown",
   "metadata": {},
   "source": [
    "**Из вышепредоставленных таблиц, видно, что конъюнкция признаков значительного изменения не дала, соответственно нет большого смысла их использовать в дальнейшем**"
   ]
  },
  {
   "cell_type": "markdown",
   "metadata": {},
   "source": [
    "### 2.2 Plants data"
   ]
  },
  {
   "cell_type": "code",
   "execution_count": 51,
   "metadata": {},
   "outputs": [],
   "source": [
    "# Данные по магазинам\n",
    "\n",
    "plants = spark.read.csv('plants.csv', header=True, inferSchema=True) "
   ]
  },
  {
   "cell_type": "markdown",
   "metadata": {},
   "source": [
    "Сгенерируем факторы для трейн датасета, используя данные по магазинам.\n",
    "\n",
    "Для каждого клиента определим. \n",
    "\n",
    "**сity_store** - город в котором клиент чаще всего совершает покупки. (Возможно, город каким-то образом влияет на таргет)\n",
    "\n",
    "**plant_type** - тип магазина, который клиент чаще всего посещает. (Предположение следующее, вероятность оттока ниже, в случае, если клиент посещает чаще гипермаркет, нежели супермаркет)\n",
    "\n",
    "**city_store_city** - **1** если город покупателя совпадает с городом где чаще всего делает закупки, **0** иначе"
   ]
  },
  {
   "cell_type": "code",
   "execution_count": 52,
   "metadata": {},
   "outputs": [],
   "source": [
    "# сity_store\n",
    "\n",
    "import pyspark.sql.functions as F\n",
    "@F.udf\n",
    "\n",
    "def mode(x):\n",
    "    from collections import Counter\n",
    "    return Counter(x).most_common(1)[0][0]\n",
    "\n",
    "agg_expr = [mode(F.collect_list('city')).alias('city_store')]\n",
    "\n",
    "city_store = transactions_train\\\n",
    "                    .select('client_id','plant','chq_id')\\\n",
    "                    .distinct()\\\n",
    "                    .join(plants,'plant','left')\\\n",
    "                    .select('client_id','city')\\\n",
    "                    .groupby(\"client_id\")\\\n",
    "                    .agg(*agg_expr)"
   ]
  },
  {
   "cell_type": "code",
   "execution_count": 53,
   "metadata": {},
   "outputs": [],
   "source": [
    "# Добавим данные по самому предпочтаемому городу в трейн датасет\n",
    "\n",
    "client_train = client_train.join(city_store,'client_id', 'left')"
   ]
  },
  {
   "cell_type": "code",
   "execution_count": 54,
   "metadata": {},
   "outputs": [],
   "source": [
    "# plant_type\n",
    "\n",
    "agg_expr = [mode(F.collect_list('plant_type')).alias('plant_type')]\n",
    "\n",
    "plant_type= transactions_train\\\n",
    "                    .select('client_id','plant','chq_id')\\\n",
    "                    .distinct()\\\n",
    "                    .join(plants,'plant','left')\\\n",
    "                    .select('client_id','plant_type')\\\n",
    "                    .groupby(\"client_id\")\\\n",
    "                    .agg(*agg_expr)\n",
    "\n",
    "# Добавим данные по самому предпочитаемому типу магазина в трейн датасет\n",
    "\n",
    "client_train = client_train.join(plant_type, 'client_id', 'left')"
   ]
  },
  {
   "cell_type": "code",
   "execution_count": 55,
   "metadata": {},
   "outputs": [],
   "source": [
    "## city_store_city \n",
    "client_train = client_train\\\n",
    "                    .withColumn('city_store_city',map_func(F.col('city') == F.col('city_store')).cast('Int'))"
   ]
  },
  {
   "cell_type": "markdown",
   "metadata": {},
   "source": [
    "### 2.3 Transaction data"
   ]
  },
  {
   "cell_type": "markdown",
   "metadata": {},
   "source": [
    "Разобьем первые 63 дня с момента первой покупки на 9 периодов, все периоды включают 7 дней. Каждой транзакции клиента поставим в соотвествие период в который была совершена покупка, то есть 1 неделя после первой покупки, 2 неделя после первой покупки и т.д. Смысл в том, что так будет проще анализировать поведения покупателя. Например будет полезно проанализировать как ведет себя покупатель со временем, повышается его посещаемость или остается на прежнем уровне, либо если падает его средний чек, то это скорее говорит о том, что он перестанет быть клиентом.\n",
    "\n",
    "Почему берется неделя как 1 период. Проанализировав график средней посещаемости покупателей от дня года, можно заметить периодичность, скорее всего она вызвана временем года, месяцем, неделей года и днем недели.\n",
    "\n",
    "Особую информаци несет зависимость количества уникальных посетителей от дня недели.С начала понедельника посещаемость падает, к выходным она растет, поэтому анализ поведение покупателя за 1 полную неделю, как-то его в целом характеризует, и периоды можно сравнивать между собой, так как они более менее равноценны между собой по полезности информации о клиенте."
   ]
  },
  {
   "cell_type": "code",
   "execution_count": 56,
   "metadata": {},
   "outputs": [],
   "source": [
    "# Вспомогательная таблица по уникальным клиентам, в зависимости от дня года, недели года и дню недели\n",
    "n_clients_per_date = transactions\\\n",
    "                        .groupby('date')\\\n",
    "                        .agg(countDistinct('client_id'))\\\n",
    "                        .toPandas()\n",
    "\n",
    "n_clients_per_date['date'] = n_clients_per_date['date'].apply(pd.to_datetime)\n",
    "n_clients_per_date = n_clients_per_date\\\n",
    "                                .sort_values('date')\\\n",
    "                                .rename(columns = {'count(client_id)':'uniq_clients'})\n",
    "\n",
    "n_clients_per_date['week_number'] = n_clients_per_date['date'].apply(lambda x: x.weekofyear)\n",
    "n_clients_per_date['weekday'] = n_clients_per_date['date'].apply(lambda x: x.weekday())"
   ]
  },
  {
   "cell_type": "code",
   "execution_count": 57,
   "metadata": {},
   "outputs": [],
   "source": [
    "# Количество уникальных посетителей в зависимости от недели года\n",
    "n_clients_per_week = n_clients_per_date\\\n",
    "                            .groupby('week_number')\\\n",
    "                            .agg({\"uniq_clients\":'sum'})\\\n",
    "                            .sort_values('week_number')"
   ]
  },
  {
   "cell_type": "code",
   "execution_count": 58,
   "metadata": {},
   "outputs": [],
   "source": [
    "# Количество уникальных посетителей в зависимости от дня недели\n",
    "n_clients_per_weekday = n_clients_per_date\\\n",
    "                            .groupby('weekday')\\\n",
    "                            .agg({\"uniq_clients\":'sum'})\\\n",
    "                            .sort_values('weekday')"
   ]
  },
  {
   "cell_type": "code",
   "execution_count": 59,
   "metadata": {},
   "outputs": [
    {
     "data": {
      "text/plain": [
       "<AxesSubplot:xlabel='date', ylabel='uniq_clients'>"
      ]
     },
     "execution_count": 59,
     "metadata": {},
     "output_type": "execute_result"
    },
    {
     "data": {
      "image/png": "[encoded data removed]",
      "text/plain": [
       "<Figure size 432x288 with 1 Axes>"
      ]
     },
     "metadata": {
      "needs_background": "light"
     },
     "output_type": "display_data"
    }
   ],
   "source": [
    "plt.figsize = (15,7)\n",
    "\n",
    "#График зависимости количества уникальных посетителей от дня года\n",
    "sns.lineplot(x = 'date', y = 'uniq_clients',data =n_clients_per_date)"
   ]
  },
  {
   "cell_type": "code",
   "execution_count": 60,
   "metadata": {},
   "outputs": [
    {
     "data": {
      "text/plain": [
       "<AxesSubplot:xlabel='week_number', ylabel='uniq_clients'>"
      ]
     },
     "execution_count": 60,
     "metadata": {},
     "output_type": "execute_result"
    },
    {
     "data": {
      "image/png": "[encoded data removed]",
      "text/plain": [
       "<Figure size 432x288 with 1 Axes>"
      ]
     },
     "metadata": {
      "needs_background": "light"
     },
     "output_type": "display_data"
    }
   ],
   "source": [
    "#График зависимости количества уникальных посетителей недели года\n",
    "sns.lineplot(x = 'week_number', y = 'uniq_clients', data = n_clients_per_week)\n"
   ]
  },
  {
   "cell_type": "code",
   "execution_count": 61,
   "metadata": {},
   "outputs": [
    {
     "data": {
      "text/plain": [
       "<AxesSubplot:xlabel='weekday', ylabel='uniq_clients'>"
      ]
     },
     "execution_count": 61,
     "metadata": {},
     "output_type": "execute_result"
    },
    {
     "data": {
      "image/png": "[encoded data removed]",
      "text/plain": [
       "<Figure size 432x288 with 1 Axes>"
      ]
     },
     "metadata": {
      "needs_background": "light"
     },
     "output_type": "display_data"
    }
   ],
   "source": [
    "#График зависимости количества уникальных посетителей от дня недели\n",
    "\n",
    "sns.lineplot(x = 'weekday', y = 'uniq_clients', data = n_clients_per_weekday)"
   ]
  },
  {
   "cell_type": "markdown",
   "metadata": {},
   "source": [
    "Создадим новую колонку **n_week**, которая говорит о том, какая идет неделя по счету с момента первой покупки, она же и характеризует период в который покупка была совершена."
   ]
  },
  {
   "cell_type": "code",
   "execution_count": 62,
   "metadata": {},
   "outputs": [],
   "source": [
    "# конец i-й недели с момента первой покупки в таймстемпах\n",
    "weeks = []\n",
    "for i in range(1,10):\n",
    "    weeks.append(i*60*60*24*7)"
   ]
  },
  {
   "cell_type": "code",
   "execution_count": 63,
   "metadata": {},
   "outputs": [],
   "source": [
    "def n_week(x):\n",
    "    return np.where(x <= weeks[0], 'week_1', \n",
    "                    np.where(x <= weeks[1], 'week_2', \n",
    "                             np.where(x <= weeks[2], 'week_3', \n",
    "                                      np.where(x <= weeks[3],'week_4',\n",
    "                                               np.where(x <= weeks[4], 'week_5',\n",
    "                                                       np.where(x <= weeks[5], 'week_6',\n",
    "                                                               np.where(x <= weeks[6], 'week_7',\n",
    "                                                                       np.where(x <= weeks[7], 'week_8','week_9')))))))).item()"
   ]
  },
  {
   "cell_type": "code",
   "execution_count": 64,
   "metadata": {},
   "outputs": [],
   "source": [
    "n_week_udf = udf(n_week,StringType())\n"
   ]
  },
  {
   "cell_type": "markdown",
   "metadata": {},
   "source": [
    "Создадим вспомогательный df, который отбражает количество визитов покупателя в каждый период"
   ]
  },
  {
   "cell_type": "code",
   "execution_count": 65,
   "metadata": {},
   "outputs": [],
   "source": [
    "n_week_visits = transactions_train\\\n",
    "                            .withColumn('n_week',n_week_udf(F.col('unix') - F.col('first_visit')).cast(StringType()))\\\n",
    "                            .dropDuplicates(['client_id','chq_id'])\\\n",
    "                            .orderBy('n_week')\\\n",
    "                            .groupby('client_id')\\\n",
    "                            .pivot('n_week')\\\n",
    "                            .agg(F.count('unix').alias('n_week_visits'))\\\n",
    "                            .fillna(0)\\\n",
    "                            .toPandas()"
   ]
  },
  {
   "cell_type": "markdown",
   "metadata": {},
   "source": [
    "Создадим вспомогательный df, который отбражает средний чек покупателя в каждый период"
   ]
  },
  {
   "cell_type": "code",
   "execution_count": 66,
   "metadata": {},
   "outputs": [],
   "source": [
    "n_week_avg_bill= transactions_train\\\n",
    "                            .withColumn('n_week',n_week_udf(F.col('unix') - F.col('first_visit')).cast(StringType()))\\\n",
    "                            .groupby('client_id','n_week','chq_id')\\\n",
    "                            .agg(F.sum('sales_sum').alias('sales_chq'))\\\n",
    "                            .orderBy('n_week')\\\n",
    "                            .groupby('client_id')\\\n",
    "                            .pivot('n_week')\\\n",
    "                            .agg(F.mean('sales_chq').alias('n_week_avg_bill'))\\\n",
    "                            .fillna(0)\\\n",
    "                            .toPandas()"
   ]
  },
  {
   "cell_type": "markdown",
   "metadata": {},
   "source": [
    "Создадим колонку **weeks_visits_list**, в которой содержатся все значения по периодам (последовательно) в формате list."
   ]
  },
  {
   "cell_type": "code",
   "execution_count": 67,
   "metadata": {},
   "outputs": [],
   "source": [
    "n_week_visits['weeks_visits_list'] = n_week_visits.drop('client_id', axis = 1).values.tolist()"
   ]
  },
  {
   "cell_type": "code",
   "execution_count": 68,
   "metadata": {},
   "outputs": [
    {
     "data": {
      "text/html": [
       "<div>\n",
       "<style scoped>\n",
       "    .dataframe tbody tr th:only-of-type {\n",
       "        vertical-align: middle;\n",
       "    }\n",
       "\n",
       "    .dataframe tbody tr th {\n",
       "        vertical-align: top;\n",
       "    }\n",
       "\n",
       "    .dataframe thead th {\n",
       "        text-align: right;\n",
       "    }\n",
       "</style>\n",
       "<table border=\"1\" class=\"dataframe\">\n",
       "  <thead>\n",
       "    <tr style=\"text-align: right;\">\n",
       "      <th></th>\n",
       "      <th>client_id</th>\n",
       "      <th>week_1</th>\n",
       "      <th>week_2</th>\n",
       "      <th>week_3</th>\n",
       "      <th>week_4</th>\n",
       "      <th>week_5</th>\n",
       "      <th>week_6</th>\n",
       "      <th>week_7</th>\n",
       "      <th>week_8</th>\n",
       "      <th>week_9</th>\n",
       "      <th>weeks_visits_list</th>\n",
       "    </tr>\n",
       "  </thead>\n",
       "  <tbody>\n",
       "    <tr>\n",
       "      <th>0</th>\n",
       "      <td>f6581967d002930cefd0d01db1d9550a</td>\n",
       "      <td>1</td>\n",
       "      <td>0</td>\n",
       "      <td>0</td>\n",
       "      <td>0</td>\n",
       "      <td>1</td>\n",
       "      <td>0</td>\n",
       "      <td>0</td>\n",
       "      <td>0</td>\n",
       "      <td>1</td>\n",
       "      <td>[1, 0, 0, 0, 1, 0, 0, 0, 1]</td>\n",
       "    </tr>\n",
       "    <tr>\n",
       "      <th>1</th>\n",
       "      <td>63210675b4ee2032ac136d4135f80e53</td>\n",
       "      <td>1</td>\n",
       "      <td>1</td>\n",
       "      <td>0</td>\n",
       "      <td>2</td>\n",
       "      <td>2</td>\n",
       "      <td>2</td>\n",
       "      <td>3</td>\n",
       "      <td>3</td>\n",
       "      <td>5</td>\n",
       "      <td>[1, 1, 0, 2, 2, 2, 3, 3, 5]</td>\n",
       "    </tr>\n",
       "    <tr>\n",
       "      <th>2</th>\n",
       "      <td>743f04d049c151a97d5ce762f5d7695d</td>\n",
       "      <td>1</td>\n",
       "      <td>0</td>\n",
       "      <td>2</td>\n",
       "      <td>0</td>\n",
       "      <td>0</td>\n",
       "      <td>1</td>\n",
       "      <td>1</td>\n",
       "      <td>2</td>\n",
       "      <td>1</td>\n",
       "      <td>[1, 0, 2, 0, 0, 1, 1, 2, 1]</td>\n",
       "    </tr>\n",
       "  </tbody>\n",
       "</table>\n",
       "</div>"
      ],
      "text/plain": [
       "                          client_id  week_1  week_2  week_3  week_4  week_5  \\\n",
       "0  f6581967d002930cefd0d01db1d9550a       1       0       0       0       1   \n",
       "1  63210675b4ee2032ac136d4135f80e53       1       1       0       2       2   \n",
       "2  743f04d049c151a97d5ce762f5d7695d       1       0       2       0       0   \n",
       "\n",
       "   week_6  week_7  week_8  week_9            weeks_visits_list  \n",
       "0       0       0       0       1  [1, 0, 0, 0, 1, 0, 0, 0, 1]  \n",
       "1       2       3       3       5  [1, 1, 0, 2, 2, 2, 3, 3, 5]  \n",
       "2       1       1       2       1  [1, 0, 2, 0, 0, 1, 1, 2, 1]  "
      ]
     },
     "execution_count": 68,
     "metadata": {},
     "output_type": "execute_result"
    }
   ],
   "source": [
    "n_week_visits.head(3)"
   ]
  },
  {
   "cell_type": "markdown",
   "metadata": {},
   "source": [
    "Смысл данного преобразования: в **weeks_visit_list** содержатся последовательно количество посещений в каждый из периодов. Далее мы можем апроксимировать зависимость количества посещений от периода прямой и посмотреть на коээфициент перед периодом, который отображает **tg** угла прямой. Если **tg < 0**, следовательно его посещения уменьшаются со временем, если **tg > 0** иначе. На мой взгляд, данный фактор хорошо характеризует поведение клиента за первые 63 дня. Если он все реже посещается магазин, то скорее всего он ливнет, причем чем меньше значение тангеса, тем выше вероятность больше не вернуться. Такое же преобразование сделаем с таблицей, которая отображает средний чек покупателя в зависимости от периода и посмотрим на тангенс угла прямой, которая апроксимирует зависимость среднего чека от периода. Если средний чек у клиента сильно падает со временем, то он вероятнее всего ливнет"
   ]
  },
  {
   "cell_type": "code",
   "execution_count": 69,
   "metadata": {},
   "outputs": [],
   "source": [
    "# Функция, которая считается tg угла прямой, которая апроксимирует зависимость количества визитов в магазин / средний чек\n",
    "# от периода с момента первой покупки\n",
    "from sklearn.linear_model import LinearRegression\n",
    "\n",
    "def tg(y_val):\n",
    "    x = np.array([1,2,3,4,5,6,7,8,9]).reshape(-1,1)\n",
    "    y = np.array(y_val).reshape(-1,1)\n",
    "    lin_reg = LinearRegression(n_jobs = -1)\n",
    "    lin_reg.fit(x,y)\n",
    "    return lin_reg.coef_[0]"
   ]
  },
  {
   "cell_type": "code",
   "execution_count": 70,
   "metadata": {},
   "outputs": [],
   "source": [
    "n_week_visits['tg_visits'] = n_week_visits['weeks_visits_list'].apply(tg).apply(lambda x: x[0])"
   ]
  },
  {
   "cell_type": "code",
   "execution_count": 71,
   "metadata": {},
   "outputs": [
    {
     "data": {
      "text/html": [
       "<div>\n",
       "<style scoped>\n",
       "    .dataframe tbody tr th:only-of-type {\n",
       "        vertical-align: middle;\n",
       "    }\n",
       "\n",
       "    .dataframe tbody tr th {\n",
       "        vertical-align: top;\n",
       "    }\n",
       "\n",
       "    .dataframe thead th {\n",
       "        text-align: right;\n",
       "    }\n",
       "</style>\n",
       "<table border=\"1\" class=\"dataframe\">\n",
       "  <thead>\n",
       "    <tr style=\"text-align: right;\">\n",
       "      <th></th>\n",
       "      <th>client_id</th>\n",
       "      <th>week_1</th>\n",
       "      <th>week_2</th>\n",
       "      <th>week_3</th>\n",
       "      <th>week_4</th>\n",
       "      <th>week_5</th>\n",
       "      <th>week_6</th>\n",
       "      <th>week_7</th>\n",
       "      <th>week_8</th>\n",
       "      <th>week_9</th>\n",
       "      <th>weeks_visits_list</th>\n",
       "      <th>tg_visits</th>\n",
       "    </tr>\n",
       "  </thead>\n",
       "  <tbody>\n",
       "    <tr>\n",
       "      <th>0</th>\n",
       "      <td>f6581967d002930cefd0d01db1d9550a</td>\n",
       "      <td>1</td>\n",
       "      <td>0</td>\n",
       "      <td>0</td>\n",
       "      <td>0</td>\n",
       "      <td>1</td>\n",
       "      <td>0</td>\n",
       "      <td>0</td>\n",
       "      <td>0</td>\n",
       "      <td>1</td>\n",
       "      <td>[1, 0, 0, 0, 1, 0, 0, 0, 1]</td>\n",
       "      <td>1.433292e-17</td>\n",
       "    </tr>\n",
       "    <tr>\n",
       "      <th>1</th>\n",
       "      <td>63210675b4ee2032ac136d4135f80e53</td>\n",
       "      <td>1</td>\n",
       "      <td>1</td>\n",
       "      <td>0</td>\n",
       "      <td>2</td>\n",
       "      <td>2</td>\n",
       "      <td>2</td>\n",
       "      <td>3</td>\n",
       "      <td>3</td>\n",
       "      <td>5</td>\n",
       "      <td>[1, 1, 0, 2, 2, 2, 3, 3, 5]</td>\n",
       "      <td>4.666667e-01</td>\n",
       "    </tr>\n",
       "    <tr>\n",
       "      <th>2</th>\n",
       "      <td>743f04d049c151a97d5ce762f5d7695d</td>\n",
       "      <td>1</td>\n",
       "      <td>0</td>\n",
       "      <td>2</td>\n",
       "      <td>0</td>\n",
       "      <td>0</td>\n",
       "      <td>1</td>\n",
       "      <td>1</td>\n",
       "      <td>2</td>\n",
       "      <td>1</td>\n",
       "      <td>[1, 0, 2, 0, 0, 1, 1, 2, 1]</td>\n",
       "      <td>8.333333e-02</td>\n",
       "    </tr>\n",
       "  </tbody>\n",
       "</table>\n",
       "</div>"
      ],
      "text/plain": [
       "                          client_id  week_1  week_2  week_3  week_4  week_5  \\\n",
       "0  f6581967d002930cefd0d01db1d9550a       1       0       0       0       1   \n",
       "1  63210675b4ee2032ac136d4135f80e53       1       1       0       2       2   \n",
       "2  743f04d049c151a97d5ce762f5d7695d       1       0       2       0       0   \n",
       "\n",
       "   week_6  week_7  week_8  week_9            weeks_visits_list     tg_visits  \n",
       "0       0       0       0       1  [1, 0, 0, 0, 1, 0, 0, 0, 1]  1.433292e-17  \n",
       "1       2       3       3       5  [1, 1, 0, 2, 2, 2, 3, 3, 5]  4.666667e-01  \n",
       "2       1       1       2       1  [1, 0, 2, 0, 0, 1, 1, 2, 1]  8.333333e-02  "
      ]
     },
     "execution_count": 71,
     "metadata": {},
     "output_type": "execute_result"
    }
   ],
   "source": [
    "n_week_visits.head(3)"
   ]
  },
  {
   "cell_type": "markdown",
   "metadata": {},
   "source": [
    "Преобразование для таблицы **n_week_avg_bill**"
   ]
  },
  {
   "cell_type": "code",
   "execution_count": 72,
   "metadata": {},
   "outputs": [],
   "source": [
    "n_week_avg_bill['weeks_avg_bill_list'] = n_week_avg_bill.drop('client_id',axis = 1).values.tolist()"
   ]
  },
  {
   "cell_type": "code",
   "execution_count": 73,
   "metadata": {},
   "outputs": [
    {
     "data": {
      "text/html": [
       "<div>\n",
       "<style scoped>\n",
       "    .dataframe tbody tr th:only-of-type {\n",
       "        vertical-align: middle;\n",
       "    }\n",
       "\n",
       "    .dataframe tbody tr th {\n",
       "        vertical-align: top;\n",
       "    }\n",
       "\n",
       "    .dataframe thead th {\n",
       "        text-align: right;\n",
       "    }\n",
       "</style>\n",
       "<table border=\"1\" class=\"dataframe\">\n",
       "  <thead>\n",
       "    <tr style=\"text-align: right;\">\n",
       "      <th></th>\n",
       "      <th>client_id</th>\n",
       "      <th>week_1</th>\n",
       "      <th>week_2</th>\n",
       "      <th>week_3</th>\n",
       "      <th>week_4</th>\n",
       "      <th>week_5</th>\n",
       "      <th>week_6</th>\n",
       "      <th>week_7</th>\n",
       "      <th>week_8</th>\n",
       "      <th>week_9</th>\n",
       "      <th>weeks_avg_bill_list</th>\n",
       "    </tr>\n",
       "  </thead>\n",
       "  <tbody>\n",
       "    <tr>\n",
       "      <th>0</th>\n",
       "      <td>175e8899a277ea1ae629fe5da11008fc</td>\n",
       "      <td>3243.5</td>\n",
       "      <td>0.0</td>\n",
       "      <td>0.0</td>\n",
       "      <td>3252.0</td>\n",
       "      <td>0.0</td>\n",
       "      <td>0.0</td>\n",
       "      <td>0.0</td>\n",
       "      <td>0.0</td>\n",
       "      <td>0.0</td>\n",
       "      <td>[3243.4999999999995, 0.0, 0.0, 3252.0000000000...</td>\n",
       "    </tr>\n",
       "    <tr>\n",
       "      <th>1</th>\n",
       "      <td>19c9b6cd88a4d6370beedfde8a1c210d</td>\n",
       "      <td>212.5</td>\n",
       "      <td>0.0</td>\n",
       "      <td>0.0</td>\n",
       "      <td>0.0</td>\n",
       "      <td>0.0</td>\n",
       "      <td>45.0</td>\n",
       "      <td>309.0</td>\n",
       "      <td>0.0</td>\n",
       "      <td>0.0</td>\n",
       "      <td>[212.5, 0.0, 0.0, 0.0, 0.0, 45.0, 309.0, 0.0, ...</td>\n",
       "    </tr>\n",
       "    <tr>\n",
       "      <th>2</th>\n",
       "      <td>2d44e3366f6b005bb192a24df4bf8daf</td>\n",
       "      <td>705.0</td>\n",
       "      <td>0.0</td>\n",
       "      <td>135.5</td>\n",
       "      <td>269.5</td>\n",
       "      <td>376.0</td>\n",
       "      <td>235.0</td>\n",
       "      <td>132.0</td>\n",
       "      <td>0.0</td>\n",
       "      <td>241.0</td>\n",
       "      <td>[705.0, 0.0, 135.5, 269.5, 376.0, 235.0, 132.0...</td>\n",
       "    </tr>\n",
       "  </tbody>\n",
       "</table>\n",
       "</div>"
      ],
      "text/plain": [
       "                          client_id  week_1  week_2  week_3  week_4  week_5  \\\n",
       "0  175e8899a277ea1ae629fe5da11008fc  3243.5     0.0     0.0  3252.0     0.0   \n",
       "1  19c9b6cd88a4d6370beedfde8a1c210d   212.5     0.0     0.0     0.0     0.0   \n",
       "2  2d44e3366f6b005bb192a24df4bf8daf   705.0     0.0   135.5   269.5   376.0   \n",
       "\n",
       "   week_6  week_7  week_8  week_9  \\\n",
       "0     0.0     0.0     0.0     0.0   \n",
       "1    45.0   309.0     0.0     0.0   \n",
       "2   235.0   132.0     0.0   241.0   \n",
       "\n",
       "                                 weeks_avg_bill_list  \n",
       "0  [3243.4999999999995, 0.0, 0.0, 3252.0000000000...  \n",
       "1  [212.5, 0.0, 0.0, 0.0, 0.0, 45.0, 309.0, 0.0, ...  \n",
       "2  [705.0, 0.0, 135.5, 269.5, 376.0, 235.0, 132.0...  "
      ]
     },
     "execution_count": 73,
     "metadata": {},
     "output_type": "execute_result"
    }
   ],
   "source": [
    "n_week_avg_bill.head(3)"
   ]
  },
  {
   "cell_type": "code",
   "execution_count": 74,
   "metadata": {},
   "outputs": [],
   "source": [
    "n_week_avg_bill['tg_avg_bill'] = n_week_avg_bill['weeks_avg_bill_list'].apply(tg).apply(lambda x: x[0])"
   ]
  },
  {
   "cell_type": "code",
   "execution_count": 75,
   "metadata": {},
   "outputs": [
    {
     "data": {
      "text/html": [
       "<div>\n",
       "<style scoped>\n",
       "    .dataframe tbody tr th:only-of-type {\n",
       "        vertical-align: middle;\n",
       "    }\n",
       "\n",
       "    .dataframe tbody tr th {\n",
       "        vertical-align: top;\n",
       "    }\n",
       "\n",
       "    .dataframe thead th {\n",
       "        text-align: right;\n",
       "    }\n",
       "</style>\n",
       "<table border=\"1\" class=\"dataframe\">\n",
       "  <thead>\n",
       "    <tr style=\"text-align: right;\">\n",
       "      <th></th>\n",
       "      <th>client_id</th>\n",
       "      <th>week_1</th>\n",
       "      <th>week_2</th>\n",
       "      <th>week_3</th>\n",
       "      <th>week_4</th>\n",
       "      <th>week_5</th>\n",
       "      <th>week_6</th>\n",
       "      <th>week_7</th>\n",
       "      <th>week_8</th>\n",
       "      <th>week_9</th>\n",
       "      <th>weeks_avg_bill_list</th>\n",
       "      <th>tg_avg_bill</th>\n",
       "    </tr>\n",
       "  </thead>\n",
       "  <tbody>\n",
       "    <tr>\n",
       "      <th>0</th>\n",
       "      <td>175e8899a277ea1ae629fe5da11008fc</td>\n",
       "      <td>3243.5</td>\n",
       "      <td>0.0</td>\n",
       "      <td>0.0</td>\n",
       "      <td>3252.0</td>\n",
       "      <td>0.0</td>\n",
       "      <td>0.0</td>\n",
       "      <td>0.0</td>\n",
       "      <td>0.0</td>\n",
       "      <td>0.0</td>\n",
       "      <td>[3243.4999999999995, 0.0, 0.0, 3252.0000000000...</td>\n",
       "      <td>-270.433333</td>\n",
       "    </tr>\n",
       "    <tr>\n",
       "      <th>1</th>\n",
       "      <td>19c9b6cd88a4d6370beedfde8a1c210d</td>\n",
       "      <td>212.5</td>\n",
       "      <td>0.0</td>\n",
       "      <td>0.0</td>\n",
       "      <td>0.0</td>\n",
       "      <td>0.0</td>\n",
       "      <td>45.0</td>\n",
       "      <td>309.0</td>\n",
       "      <td>0.0</td>\n",
       "      <td>0.0</td>\n",
       "      <td>[212.5, 0.0, 0.0, 0.0, 0.0, 45.0, 309.0, 0.0, ...</td>\n",
       "      <td>-3.116667</td>\n",
       "    </tr>\n",
       "    <tr>\n",
       "      <th>2</th>\n",
       "      <td>2d44e3366f6b005bb192a24df4bf8daf</td>\n",
       "      <td>705.0</td>\n",
       "      <td>0.0</td>\n",
       "      <td>135.5</td>\n",
       "      <td>269.5</td>\n",
       "      <td>376.0</td>\n",
       "      <td>235.0</td>\n",
       "      <td>132.0</td>\n",
       "      <td>0.0</td>\n",
       "      <td>241.0</td>\n",
       "      <td>[705.0, 0.0, 135.5, 269.5, 376.0, 235.0, 132.0...</td>\n",
       "      <td>-31.625000</td>\n",
       "    </tr>\n",
       "  </tbody>\n",
       "</table>\n",
       "</div>"
      ],
      "text/plain": [
       "                          client_id  week_1  week_2  week_3  week_4  week_5  \\\n",
       "0  175e8899a277ea1ae629fe5da11008fc  3243.5     0.0     0.0  3252.0     0.0   \n",
       "1  19c9b6cd88a4d6370beedfde8a1c210d   212.5     0.0     0.0     0.0     0.0   \n",
       "2  2d44e3366f6b005bb192a24df4bf8daf   705.0     0.0   135.5   269.5   376.0   \n",
       "\n",
       "   week_6  week_7  week_8  week_9  \\\n",
       "0     0.0     0.0     0.0     0.0   \n",
       "1    45.0   309.0     0.0     0.0   \n",
       "2   235.0   132.0     0.0   241.0   \n",
       "\n",
       "                                 weeks_avg_bill_list  tg_avg_bill  \n",
       "0  [3243.4999999999995, 0.0, 0.0, 3252.0000000000...  -270.433333  \n",
       "1  [212.5, 0.0, 0.0, 0.0, 0.0, 45.0, 309.0, 0.0, ...    -3.116667  \n",
       "2  [705.0, 0.0, 135.5, 269.5, 376.0, 235.0, 132.0...   -31.625000  "
      ]
     },
     "execution_count": 75,
     "metadata": {},
     "output_type": "execute_result"
    }
   ],
   "source": [
    "n_week_avg_bill.head(3)"
   ]
  },
  {
   "cell_type": "markdown",
   "metadata": {},
   "source": [
    "Создадим df = **tg_visits_avg_bill** в котором содержатся данные, которые отображают динамику поведения среднего чека и количества посещений покупателя за первые 63 дня с момента первой покупки. (Объединили **n_week_avg_bill** & **n_week_visits** и вытащили интересующие значения)"
   ]
  },
  {
   "cell_type": "code",
   "execution_count": 76,
   "metadata": {},
   "outputs": [],
   "source": [
    "tg_visits_avg_bill = n_week_avg_bill[['client_id','tg_avg_bill']]\\\n",
    "                                .merge(n_week_visits[['client_id','tg_visits']], on = 'client_id', how = 'left')"
   ]
  },
  {
   "cell_type": "code",
   "execution_count": 77,
   "metadata": {
    "scrolled": true
   },
   "outputs": [
    {
     "data": {
      "text/html": [
       "<div>\n",
       "<style scoped>\n",
       "    .dataframe tbody tr th:only-of-type {\n",
       "        vertical-align: middle;\n",
       "    }\n",
       "\n",
       "    .dataframe tbody tr th {\n",
       "        vertical-align: top;\n",
       "    }\n",
       "\n",
       "    .dataframe thead th {\n",
       "        text-align: right;\n",
       "    }\n",
       "</style>\n",
       "<table border=\"1\" class=\"dataframe\">\n",
       "  <thead>\n",
       "    <tr style=\"text-align: right;\">\n",
       "      <th></th>\n",
       "      <th>client_id</th>\n",
       "      <th>tg_avg_bill</th>\n",
       "      <th>tg_visits</th>\n",
       "    </tr>\n",
       "  </thead>\n",
       "  <tbody>\n",
       "    <tr>\n",
       "      <th>0</th>\n",
       "      <td>175e8899a277ea1ae629fe5da11008fc</td>\n",
       "      <td>-270.433333</td>\n",
       "      <td>-0.150000</td>\n",
       "    </tr>\n",
       "    <tr>\n",
       "      <th>1</th>\n",
       "      <td>19c9b6cd88a4d6370beedfde8a1c210d</td>\n",
       "      <td>-3.116667</td>\n",
       "      <td>-0.083333</td>\n",
       "    </tr>\n",
       "    <tr>\n",
       "      <th>2</th>\n",
       "      <td>2d44e3366f6b005bb192a24df4bf8daf</td>\n",
       "      <td>-31.625000</td>\n",
       "      <td>0.216667</td>\n",
       "    </tr>\n",
       "  </tbody>\n",
       "</table>\n",
       "</div>"
      ],
      "text/plain": [
       "                          client_id  tg_avg_bill  tg_visits\n",
       "0  175e8899a277ea1ae629fe5da11008fc  -270.433333  -0.150000\n",
       "1  19c9b6cd88a4d6370beedfde8a1c210d    -3.116667  -0.083333\n",
       "2  2d44e3366f6b005bb192a24df4bf8daf   -31.625000   0.216667"
      ]
     },
     "execution_count": 77,
     "metadata": {},
     "output_type": "execute_result"
    }
   ],
   "source": [
    "tg_visits_avg_bill.head(3)"
   ]
  },
  {
   "cell_type": "markdown",
   "metadata": {},
   "source": [
    "**Сгенерируем еще несколько признаков**.\n",
    "\n",
    "**no_8_week:** **1**, если клиент не посещал магазин последние 8 недель, **0** иначе (Клиент совершил первую покупку в магазине, в течении недели посетил магазин ленты минимум 1 раз и 8 недель не возвращался, для такого клиент фактор no_8_week = 1).\n",
    "\n",
    "**no_7_week**: 1, если клиента нет последние 7 недель, 0 иначе (Клиент совершил первую покупку в магазине, в течении 7-14 дней посетил магазин лены с момента первой покупки минимум 1 раз и 7 недель не возращался, для такого клиента фактор no_7_week = 1). \n",
    "\n",
    "....\n",
    "\n",
    "**no_1_week**: 1, если клиент посетил магазин минимум 1 раз в период 56 - 63 дней с момента первой покупки, 0 иначе"
   ]
  },
  {
   "cell_type": "code",
   "execution_count": 78,
   "metadata": {},
   "outputs": [],
   "source": [
    "def no_n_week(x):\n",
    "    no_zero_weeks = 0\n",
    "    for i in range(1,y + 1):\n",
    "        l = 10 - i\n",
    "        if x[f'week_{l}'] != 0:\n",
    "            no_zero_weeks += 1\n",
    "    if no_zero_weeks == 0:\n",
    "        return 1\n",
    "    else:\n",
    "        return 0"
   ]
  },
  {
   "cell_type": "code",
   "execution_count": 79,
   "metadata": {},
   "outputs": [],
   "source": [
    "for y in range(2,9):\n",
    "    n_week_visits[f'no_{y}_week'] = n_week_visits.apply(lambda x: no_n_week(x), axis = 1 ) "
   ]
  },
  {
   "cell_type": "code",
   "execution_count": 80,
   "metadata": {},
   "outputs": [],
   "source": [
    "columns_no_week = [f'no_{x}_week' for x in range(2,9)]"
   ]
  },
  {
   "cell_type": "code",
   "execution_count": 81,
   "metadata": {},
   "outputs": [],
   "source": [
    "columns_no_week.append('client_id')"
   ]
  },
  {
   "cell_type": "code",
   "execution_count": 82,
   "metadata": {
    "scrolled": false
   },
   "outputs": [],
   "source": [
    "tg_visits_avg_bill_weeks = tg_visits_avg_bill.merge(n_week_visits[columns_no_week], on = 'client_id', how =  'left')"
   ]
  },
  {
   "cell_type": "markdown",
   "metadata": {},
   "source": [
    "**tg_visits_avg_bill_weeks** конвертируем в pyspark df"
   ]
  },
  {
   "cell_type": "code",
   "execution_count": 83,
   "metadata": {},
   "outputs": [],
   "source": [
    "tg_weeks_values = sqlContext.createDataFrame(tg_visits_avg_bill_weeks)"
   ]
  },
  {
   "cell_type": "markdown",
   "metadata": {},
   "source": [
    "Джойн **tg_weeks_values** к **client_train**"
   ]
  },
  {
   "cell_type": "code",
   "execution_count": 84,
   "metadata": {},
   "outputs": [],
   "source": [
    "client_train = client_train.join(tg_weeks_values, 'client_id','left')"
   ]
  },
  {
   "cell_type": "code",
   "execution_count": 85,
   "metadata": {},
   "outputs": [
    {
     "data": {
      "text/plain": [
       "[('client_id', 'string'),\n",
       " ('churn', 'int'),\n",
       " ('gender', 'string'),\n",
       " ('city', 'string'),\n",
       " ('age_group', 'string'),\n",
       " ('city_store', 'string'),\n",
       " ('plant_type', 'string'),\n",
       " ('city_store_city', 'int'),\n",
       " ('tg_avg_bill', 'double'),\n",
       " ('tg_visits', 'double'),\n",
       " ('no_2_week', 'bigint'),\n",
       " ('no_3_week', 'bigint'),\n",
       " ('no_4_week', 'bigint'),\n",
       " ('no_5_week', 'bigint'),\n",
       " ('no_6_week', 'bigint'),\n",
       " ('no_7_week', 'bigint'),\n",
       " ('no_8_week', 'bigint')]"
      ]
     },
     "execution_count": 85,
     "metadata": {},
     "output_type": "execute_result"
    }
   ],
   "source": [
    "client_train.dtypes"
   ]
  },
  {
   "cell_type": "markdown",
   "metadata": {},
   "source": [
    "Создадим бинарную переменную **total_decrease**. \n",
    "\n",
    "**total_decrease = 1** если падает и средний чек и количество посещений. (**tg_avg_bill < 0** & **tg_visits < 0**)\n",
    "\n",
    "**total_decrease = 0** иначе\n",
    "\n"
   ]
  },
  {
   "cell_type": "code",
   "execution_count": 86,
   "metadata": {},
   "outputs": [],
   "source": [
    "client_train = client_train\\\n",
    "                    .withColumn('total_decrease',map_func((F.col('tg_avg_bill') < 0) & (F.col('tg_visits') < 0)).cast('Int'))"
   ]
  },
  {
   "cell_type": "code",
   "execution_count": 87,
   "metadata": {},
   "outputs": [
    {
     "data": {
      "text/plain": [
       "DataFrame[client_id: string, churn: int, gender: string, city: string, age_group: string, city_store: string, plant_type: string, city_store_city: int, tg_avg_bill: double, tg_visits: double, no_2_week: bigint, no_3_week: bigint, no_4_week: bigint, no_5_week: bigint, no_6_week: bigint, no_7_week: bigint, no_8_week: bigint, total_decrease: int]"
      ]
     },
     "execution_count": 87,
     "metadata": {},
     "output_type": "execute_result"
    }
   ],
   "source": [
    "client_train.cache()"
   ]
  },
  {
   "cell_type": "code",
   "execution_count": 88,
   "metadata": {},
   "outputs": [],
   "source": [
    "client_train_pd = client_train.toPandas()"
   ]
  },
  {
   "cell_type": "code",
   "execution_count": 89,
   "metadata": {},
   "outputs": [],
   "source": [
    "client_train_pd[['tg_avg_bill','tg_visits']] = client_train_pd[['tg_avg_bill','tg_visits']].apply(lambda x: np.round(x,3), axis = 1)"
   ]
  },
  {
   "cell_type": "markdown",
   "metadata": {},
   "source": [
    "Интересно будет посмотреть на медианные значения **tg_avg_bill & tg_visits** в зависимости от churn. По моему мнению, сгенерированные фичи внесут большой вклад в модель."
   ]
  },
  {
   "cell_type": "code",
   "execution_count": 90,
   "metadata": {},
   "outputs": [],
   "source": [
    "tg_avg_bill_churn = client_train_pd\\\n",
    "                            .query('churn == 1')\\\n",
    "                            .tg_avg_bill\\\n",
    "                            .values\n",
    "\n",
    "tg_avg_bill_not_churn = client_train_pd\\\n",
    "                            .query('churn == 0')\\\n",
    "                            .tg_avg_bill\\\n",
    "                            .values\n",
    "\n",
    "tg_visits_churn = client_train_pd\\\n",
    "                            .query('churn == 1')\\\n",
    "                            .tg_visits\\\n",
    "                            .values\n",
    "\n",
    "tg_visits_not_churn = client_train_pd\\\n",
    "                            .query('churn == 0')\\\n",
    "                            .tg_visits\\\n",
    "                            .values"
   ]
  },
  {
   "cell_type": "code",
   "execution_count": 91,
   "metadata": {},
   "outputs": [],
   "source": [
    "# Генерация бутстрапированных выборок\n",
    "def get_bootstrap_samples(data, n_samples):\n",
    "    indexes = np.random.randint(0,len(data),(n_samples, len(data)))\n",
    "    samples = data[indexes]\n",
    "    return samples"
   ]
  },
  {
   "cell_type": "code",
   "execution_count": 92,
   "metadata": {},
   "outputs": [],
   "source": [
    "# доверительный интервал\n",
    "def stat_intervals(stat, alpha):\n",
    "    boundaries = np.percentile(stat, [100 * alpha / 2., 100 * (1 - alpha / 2.)])\n",
    "    return boundaries"
   ]
  },
  {
   "cell_type": "code",
   "execution_count": 93,
   "metadata": {},
   "outputs": [],
   "source": [
    "# медианы для сгенерированных выборок\n",
    "tg_avg_bill_churn_medians = np.array(list(map(np.median,get_bootstrap_samples(tg_avg_bill_churn, 5000))))"
   ]
  },
  {
   "cell_type": "code",
   "execution_count": 94,
   "metadata": {},
   "outputs": [],
   "source": [
    "tg_avg_bill_not_churn_medians = np.array(list(map(np.median,get_bootstrap_samples(tg_avg_bill_not_churn, 5000))))"
   ]
  },
  {
   "cell_type": "code",
   "execution_count": 95,
   "metadata": {},
   "outputs": [],
   "source": [
    "tg_visits_churn_medians = np.array(list(map(np.median,get_bootstrap_samples(tg_visits_churn, 5000))))"
   ]
  },
  {
   "cell_type": "code",
   "execution_count": 96,
   "metadata": {},
   "outputs": [],
   "source": [
    "tg_visits_not_churn_medians = np.array(list(map(np.median,get_bootstrap_samples(tg_visits_not_churn, 5000))))"
   ]
  },
  {
   "cell_type": "code",
   "execution_count": 97,
   "metadata": {},
   "outputs": [
    {
     "name": "stdout",
     "output_type": "stream",
     "text": [
      "Точечная оценка медианы tg_avg_bill для тех кто ушел =  -52.70745719999999\n",
      "Точечная оценка медианы tg_avg_bill для тех кто не ушел =  -38.989656200000006\n"
     ]
    }
   ],
   "source": [
    "print(\"Точечная оценка медианы tg_avg_bill для тех кто ушел = \",tg_avg_bill_churn_medians.mean())\n",
    "print(\"Точечная оценка медианы tg_avg_bill для тех кто не ушел = \",tg_avg_bill_not_churn_medians.mean())\n"
   ]
  },
  {
   "cell_type": "code",
   "execution_count": 98,
   "metadata": {},
   "outputs": [
    {
     "name": "stdout",
     "output_type": "stream",
     "text": [
      "Точечная оценка медианы tg_visits для тех кто ушел =  -0.11700000000000002\n",
      "Точечная оценка медианы tg_visits для тех кто не ушел =  -0.083\n"
     ]
    }
   ],
   "source": [
    "print(\"Точечная оценка медианы tg_visits для тех кто ушел = \",tg_visits_churn_medians .mean())\n",
    "print(\"Точечная оценка медианы tg_visits для тех кто не ушел = \",tg_visits_not_churn_medians.mean())"
   ]
  },
  {
   "cell_type": "code",
   "execution_count": 99,
   "metadata": {},
   "outputs": [
    {
     "data": {
      "text/plain": [
       "array([-15.13415, -12.306  ])"
      ]
     },
     "execution_count": 99,
     "metadata": {},
     "output_type": "execute_result"
    }
   ],
   "source": [
    "# Доверительный интервал для разности медиан tg_avg_bill\n",
    "stat_intervals(tg_avg_bill_churn_medians - tg_avg_bill_not_churn_medians, 0.05)\n"
   ]
  },
  {
   "cell_type": "code",
   "execution_count": 100,
   "metadata": {},
   "outputs": [
    {
     "data": {
      "text/plain": [
       "array([-0.034, -0.034])"
      ]
     },
     "execution_count": 100,
     "metadata": {},
     "output_type": "execute_result"
    }
   ],
   "source": [
    "# Доверительный интервал для разности медиан tg_visits\n",
    "stat_intervals(tg_visits_churn_medians - tg_visits_not_churn_medians, 0.05)\n"
   ]
  },
  {
   "cell_type": "markdown",
   "metadata": {},
   "source": [
    "Как мы видим, доверительные интервалы не включают ноль, следовательные медианные значения двух переменных в зависимости от churn различаются"
   ]
  },
  {
   "cell_type": "code",
   "execution_count": 101,
   "metadata": {},
   "outputs": [],
   "source": [
    "from sklearn.linear_model import LogisticRegression\n",
    "from sklearn.model_selection import GridSearchCV\n",
    "from sklearn.preprocessing import StandardScaler\n",
    "from sklearn.ensemble import RandomForestClassifier\n",
    "from sklearn import model_selection, linear_model, metrics, pipeline, preprocessing"
   ]
  },
  {
   "cell_type": "markdown",
   "metadata": {},
   "source": [
    "Реализуем функцию для оценки Логистической регрессии. Также организуется трансформация переменных и фитинг модели через пайплайн, далее гридсерч с целью определить оптимальный параметр регуляризации."
   ]
  },
  {
   "cell_type": "code",
   "execution_count": 125,
   "metadata": {},
   "outputs": [],
   "source": [
    "def LR_model(X):\n",
    "    \n",
    "    X_train = X.drop(['churn','client_id'], axis = 1)\n",
    "    y_train = X['churn']\n",
    "    \n",
    "    categorical_cols = X_train.select_dtypes(include = ['object']).columns.tolist()\n",
    "    \n",
    "    binary_cols = ['city_store_city','total_decrease'] + [f'no_{x}_week' for x in range(2,9)]\n",
    "    \n",
    "    numerical_cols = X_train.drop(categorical_cols + binary_cols, axis = 1).columns.tolist()\n",
    "    \n",
    "    LR = LogisticRegression(random_state = 20, class_weight = 'balanced', n_jobs = -1)\n",
    "    \n",
    "    model = pipeline.Pipeline(steps = [ \n",
    "                    ('feature_preparation', pipeline.FeatureUnion(transformer_list = [        \n",
    "                            #binary\n",
    "                            ('binary_values', preprocessing.FunctionTransformer(lambda data: data.loc[:, binary_cols])), \n",
    "\n",
    "                            #numerical\n",
    "                            ('numeric_values', pipeline.Pipeline(steps = [\n",
    "                                ('selecting', preprocessing.FunctionTransformer(lambda data: data.loc[:, numerical_cols])),\n",
    "                                ('scaling', preprocessing.StandardScaler())            \n",
    "                                        ])),\n",
    "\n",
    "                            #categorical\n",
    "                            ('categorical_values', pipeline.Pipeline(steps = [\n",
    "                                ('selecting', preprocessing.FunctionTransformer(lambda data: data.loc[:,categorical_cols ])),\n",
    "                                ('hot_encoding', preprocessing.OneHotEncoder(handle_unknown = 'ignore'))            \n",
    "                                        ])),\n",
    "                        ])),\n",
    "                    ('model_fit', LR)\n",
    "                    ]\n",
    "            )\n",
    "    params_grid = {'model_fit__C' : np.logspace(-3,1,10)}\n",
    "\n",
    "    LR_grid = GridSearchCV(model, params_grid, scoring = 'roc_auc', cv = 5, n_jobs = -1)\n",
    "    \n",
    "    LR_grid.fit(X_train, y_train)\n",
    "    \n",
    "    best_score = LR_grid.best_score_\n",
    "    best_estimator = LR_grid.best_estimator_\n",
    "    \n",
    "    return [best_score, best_estimator]"
   ]
  },
  {
   "cell_type": "markdown",
   "metadata": {},
   "source": [
    "Пора уже построить первую тестовую модель по сгенерированным факторам"
   ]
  },
  {
   "cell_type": "code",
   "execution_count": 103,
   "metadata": {},
   "outputs": [],
   "source": [
    "LR_model_1 =  LR_model(client_train_pd)"
   ]
  },
  {
   "cell_type": "code",
   "execution_count": 104,
   "metadata": {},
   "outputs": [
    {
     "name": "stdout",
     "output_type": "stream",
     "text": [
      "roc auc LR_model_1 =  0.673280561371356\n"
     ]
    }
   ],
   "source": [
    "print(\"roc auc LR_model_1 = \", LR_model_1[0])"
   ]
  },
  {
   "cell_type": "markdown",
   "metadata": {},
   "source": [
    "Как мы видим, roc auc = 0.67, попробуем использовать Случайный лес, возможно он сработает лучше"
   ]
  },
  {
   "cell_type": "code",
   "execution_count": 105,
   "metadata": {},
   "outputs": [],
   "source": [
    "from sklearn.model_selection import cross_val_score"
   ]
  },
  {
   "cell_type": "markdown",
   "metadata": {},
   "source": [
    "Реализуем функцию оценки Случайного леса с помощью кроссвалидации.   "
   ]
  },
  {
   "cell_type": "code",
   "execution_count": 106,
   "metadata": {},
   "outputs": [],
   "source": [
    "def RF_model(X):\n",
    "    X_train = X.drop(['churn','client_id'], axis = 1)\n",
    "    y_train = X['churn']\n",
    "    \n",
    "    categorical_cols = X_train.select_dtypes(include = ['object']).columns.tolist()\n",
    "    \n",
    "    binary_cols = ['city_store_city','total_decrease'] + [f'no_{x}_week' for x in range(2,9)]\n",
    "    \n",
    "    numerical_cols = X_train.drop(categorical_cols + binary_cols, axis = 1).columns.tolist()\n",
    "    \n",
    "    RF = RandomForestClassifier(n_estimators = 100, random_state = 20, class_weight = 'balanced', n_jobs = -1)\n",
    "    \n",
    "    model = pipeline.Pipeline(steps = [ \n",
    "                    ('feature_preparation', pipeline.FeatureUnion(transformer_list = [        \n",
    "                            #binary\n",
    "                            ('binary_values', preprocessing.FunctionTransformer(lambda data: data.loc[:, binary_cols])), \n",
    "\n",
    "                            #numerical\n",
    "                            ('numerical_values', preprocessing.FunctionTransformer(lambda data: data.loc[:, numerical_cols])),\n",
    "                        \n",
    "                            #categorical\n",
    "                            ('categorical_values', pipeline.Pipeline(steps = [\n",
    "                                ('selecting', preprocessing.FunctionTransformer(lambda data: data.loc[:, categorical_cols])),\n",
    "                                ('hot_encoding', preprocessing.OneHotEncoder(handle_unknown = 'ignore'))            \n",
    "                                        ])),\n",
    "                        ])),\n",
    "                    ('model_fit', RF)\n",
    "                    ]\n",
    "            )\n",
    "    \n",
    "    cv_cross_scores = cross_val_score(model,X_train, y_train, scoring = 'roc_auc', cv = 5, n_jobs = -1)\n",
    "    \n",
    "    return cv_cross_scores"
   ]
  },
  {
   "cell_type": "code",
   "execution_count": 107,
   "metadata": {},
   "outputs": [],
   "source": [
    "RF_model_1 =  RF_model(client_train_pd)"
   ]
  },
  {
   "cell_type": "code",
   "execution_count": 108,
   "metadata": {},
   "outputs": [
    {
     "name": "stdout",
     "output_type": "stream",
     "text": [
      "roc auc RF_model_1 =  0.593808563331755\n"
     ]
    }
   ],
   "source": [
    "print(\"roc auc RF_model_1 = \", RF_model_1[0])"
   ]
  },
  {
   "cell_type": "markdown",
   "metadata": {},
   "source": [
    "Как мы видим, результат оставляет желать лучшего, логистическая регрессия показала себя с более презентативной стороны, окей, попробуем побить результаты **RF_model_1 & LR_model_1**, создав новые переменные\n",
    "\n",
    "**LR_model_1 score == 0.67**\n",
    "\n",
    "**RF_model_1 score == 0.59**"
   ]
  },
  {
   "cell_type": "markdown",
   "metadata": {},
   "source": [
    "Используем данные из transaction_train, для каждого клиента подсчитаем: \n",
    "\n",
    "**avg_bill** - Cредний чек  (Чем больше чек, тем больше покупатель тратит, это в какой-то мере отражает лояльность магазину)\n",
    "\n",
    "**promo_sum** - Затраты на товары по акции\n",
    "\n",
    "**total_sum** - Сумма денег, которую покупатель потратил за первые два месяца посещения магазина\n",
    "\n",
    "**total_visits** - Общее количество посещений\n",
    "\n",
    "**promo_rate** - Доля затрат на товары по акциям от общей потраченной суммы\n",
    "\n",
    "**rate_visits_weekday {Понедельник, Вторник, Среда, Четверг, Пятница, Суббота, Воскресенье** - Посещение в дни недели в процентах от всех посещений\n",
    "\n",
    "**n_markets** Количество уникальных магазинов, которые посетил покупатель"
   ]
  },
  {
   "cell_type": "code",
   "execution_count": 109,
   "metadata": {},
   "outputs": [],
   "source": [
    "new_features_1 = transactions\\\n",
    "                    .select('client_id')\\\n",
    "                    .distinct()"
   ]
  },
  {
   "cell_type": "markdown",
   "metadata": {},
   "source": [
    "#### avg_bill"
   ]
  },
  {
   "cell_type": "code",
   "execution_count": 110,
   "metadata": {},
   "outputs": [],
   "source": [
    "# avg_bill\n",
    "\n",
    "avg_bill = transactions_train\\\n",
    "                    .groupby(['chq_id','client_id'])\\\n",
    "                    .agg(F.sum('sales_sum').alias('bill'))\\\n",
    "                    .groupby('client_id')\\\n",
    "                    .agg(F.mean('bill').alias('avg_bill'))\n",
    "\n",
    "new_features_1 = new_features_1.join(avg_bill,'client_id','left')"
   ]
  },
  {
   "cell_type": "markdown",
   "metadata": {},
   "source": [
    "#### promo_sum"
   ]
  },
  {
   "cell_type": "code",
   "execution_count": 111,
   "metadata": {},
   "outputs": [],
   "source": [
    "# promo_sum\n",
    "\n",
    "promo_sum = transactions_train\\\n",
    "                    .filter('is_promo == 1')\\\n",
    "                    .groupby('client_id')\\\n",
    "                    .agg(F.sum('sales_sum').alias('promo_sum'))\n",
    "\n",
    "new_features_1 = new_features_1.join(promo_sum,'client_id','left')"
   ]
  },
  {
   "cell_type": "code",
   "execution_count": 112,
   "metadata": {},
   "outputs": [],
   "source": [
    "# Некоторые клиенты, не тратились на товары по скидке, следует пропуски заменить на значение 0\n",
    "\n",
    "new_features_1 = new_features_1.fillna(0, subset = ['promo_sum'])"
   ]
  },
  {
   "cell_type": "markdown",
   "metadata": {},
   "source": [
    "#### total_sum"
   ]
  },
  {
   "cell_type": "code",
   "execution_count": 113,
   "metadata": {},
   "outputs": [],
   "source": [
    "# total_sum\n",
    "\n",
    "total_sum = transactions_train\\\n",
    "                        .groupby('client_id')\\\n",
    "                        .agg(F.sum('sales_sum').alias('total_sum'))\n",
    "\n",
    "new_features_1 = new_features_1.join(total_sum,'client_id', 'left')"
   ]
  },
  {
   "cell_type": "markdown",
   "metadata": {},
   "source": [
    "#### total_visits"
   ]
  },
  {
   "cell_type": "code",
   "execution_count": 114,
   "metadata": {},
   "outputs": [],
   "source": [
    "## total_visits\n",
    "\n",
    "total_visits = transactions_train\\\n",
    "                        .dropDuplicates(['client_id','unix'])\\\n",
    "                        .groupby('client_id')\\\n",
    "                        .agg(F.count('client_id').alias('total_visits'))\n",
    "\n",
    "new_features_1 = new_features_1.join(total_visits,'client_id','left')"
   ]
  },
  {
   "cell_type": "markdown",
   "metadata": {},
   "source": [
    "#### rate_visits_weekday"
   ]
  },
  {
   "cell_type": "code",
   "execution_count": 115,
   "metadata": {},
   "outputs": [],
   "source": [
    "# rate_visits_weekday\n",
    "\n",
    "\n",
    "weekdays = ['Fri','Mon','Sat','Sun','Thu','Tue','Wed']\n",
    "\n",
    "rate_visits_weekday = transactions_train\\\n",
    "                            .withColumn('weekday',date_format(to_date(col('unix').cast(TimestampType())),'E'))\\\n",
    "                            .dropDuplicates(['client_id','unix'])\\\n",
    "                            .groupby('client_id')\\\n",
    "                            .pivot('weekday')\\\n",
    "                            .agg(F.count('unix'))\\\n",
    "                            .join(total_visits, 'client_id','left')\\\n",
    "                            .fillna(0)\\\n",
    "                            .select('client_id',*[(F.col(weekday) / F.col('total_visits')).alias(weekday) for weekday in weekdays])\\\n",
    "                            .drop('total_visits')\n",
    "\n",
    "new_features_1 = new_features_1.join(rate_visits_weekday,'client_id','left')"
   ]
  },
  {
   "cell_type": "markdown",
   "metadata": {},
   "source": [
    "#### promo_rate"
   ]
  },
  {
   "cell_type": "code",
   "execution_count": 116,
   "metadata": {},
   "outputs": [],
   "source": [
    "new_features_1 = new_features_1\\\n",
    "                        .withColumn('promo_rate',F.col('promo_sum')/F.col('total_sum'))"
   ]
  },
  {
   "cell_type": "markdown",
   "metadata": {},
   "source": [
    "**n_markets**"
   ]
  },
  {
   "cell_type": "code",
   "execution_count": 132,
   "metadata": {},
   "outputs": [],
   "source": [
    "n_markets = transactions_train\\\n",
    "                .dropDuplicates(['client_id','plant'])\\\n",
    "                .groupby('client_id')\\\n",
    "                .agg(F.count('plant').alias('n_markets'))\n",
    "\n",
    "new_features_1 = new_features_1.join(n_markets, 'client_id','left')"
   ]
  },
  {
   "cell_type": "markdown",
   "metadata": {},
   "source": [
    "**Интересно будет посмотреть на часы, в которые приходят клиенты**"
   ]
  },
  {
   "cell_type": "code",
   "execution_count": 119,
   "metadata": {},
   "outputs": [],
   "source": [
    "\n",
    "# hour_visits\n",
    "\n",
    "num_visits_hour = transactions\\\n",
    "                            .withColumn('hour',hour(col('chq_date')))\\\n",
    "                            .dropDuplicates(['client_id','unix'])\\\n",
    "                            .groupby(['client_id','hour'])\\\n",
    "                            .agg(F.count('hour').alias('num_hour_visits'))\\\n",
    "                            .toPandas()\\\n",
    "                            .pivot(index = 'client_id', columns = 'hour', values = 'num_hour_visits')"
   ]
  },
  {
   "cell_type": "code",
   "execution_count": 120,
   "metadata": {},
   "outputs": [
    {
     "name": "stdout",
     "output_type": "stream",
     "text": [
      "+----+\n",
      "|hour|\n",
      "+----+\n",
      "|   3|\n",
      "+----+\n",
      "\n"
     ]
    }
   ],
   "source": [
    "transactions.withColumn('hour',hour(col('chq_date'))).select('hour').distinct().show(4)"
   ]
  },
  {
   "cell_type": "markdown",
   "metadata": {},
   "source": [
    "Как видно из таблицы, все клиенты совершали покупки в 3 часа и такое наврядли может произойти, скорее всего отчетность по транзакциям производится после закрытия магазина, т.е ночью."
   ]
  },
  {
   "cell_type": "code",
   "execution_count": 133,
   "metadata": {},
   "outputs": [],
   "source": [
    "new_features_1_pd = new_features_1.toPandas()"
   ]
  },
  {
   "cell_type": "code",
   "execution_count": 122,
   "metadata": {},
   "outputs": [],
   "source": [
    "new_features_1_pd[new_features_1_pd.columns.drop('client_id')] = new_features_1_pd[new_features_1_pd.columns.drop('client_id')].apply(lambda x: np.round(x,3), axis = 1)"
   ]
  },
  {
   "cell_type": "code",
   "execution_count": 149,
   "metadata": {},
   "outputs": [],
   "source": [
    "# Создадим новый датафрейм добавив в прежний трейн датасет новые сгенерированные факторы\n",
    "\n",
    "client_train_pd_2 = client_train_pd.merge(new_features_1_pd, on = 'client_id', how = 'left')"
   ]
  },
  {
   "cell_type": "code",
   "execution_count": 152,
   "metadata": {},
   "outputs": [],
   "source": [
    "LR_model_2 = LR_model(client_train_pd_2)"
   ]
  },
  {
   "cell_type": "code",
   "execution_count": 153,
   "metadata": {},
   "outputs": [
    {
     "name": "stdout",
     "output_type": "stream",
     "text": [
      "roc auc LR_model_2 =  0.7009179423247887\n"
     ]
    }
   ],
   "source": [
    "print(\"roc auc LR_model_2 = \", LR_model_2[0])"
   ]
  },
  {
   "cell_type": "code",
   "execution_count": 154,
   "metadata": {},
   "outputs": [],
   "source": [
    "RF_model_2 = RF_model(client_train_pd_2)"
   ]
  },
  {
   "cell_type": "code",
   "execution_count": 155,
   "metadata": {},
   "outputs": [
    {
     "name": "stdout",
     "output_type": "stream",
     "text": [
      "roc auc RF_model_2 =  0.6986585937538955\n"
     ]
    }
   ],
   "source": [
    "print(\"roc auc RF_model_2 = \", RF_model_2[0])"
   ]
  },
  {
   "cell_type": "markdown",
   "metadata": {},
   "source": [
    "Результат стал еще лучше, значит мы движемся в правильном направлении, добавим еще признаков, которые возможно повысят score\n",
    "\n",
    "**LR_model_2 score = 0.7009**\n",
    "\n",
    "**RF_model_2 score = 0.6987**"
   ]
  },
  {
   "cell_type": "markdown",
   "metadata": {},
   "source": [
    "### 2.3 Material Data"
   ]
  },
  {
   "cell_type": "markdown",
   "metadata": {},
   "source": [
    "Используя данные из materials data, для каждого клиента подсчитаем: \n",
    "\n",
    "**private_sum** - Затраты на приватные товары  \n",
    "\n",
    "**alco_summ** - Затраты на алькогольные \n",
    "\n",
    "Далее все факторы **private_summ** & **alco_sum** отнормируем на **total_sum**, чтобы они отображали доли от общих затрат, соответственно **private_rate & alco_rate**\n",
    "\n",
    "Используем также данные по иерархии товаров (1 лвл и 2 лвл). Подсчитаем количество потраченных денег на каждый вид иерархии \n"
   ]
  },
  {
   "cell_type": "code",
   "execution_count": 156,
   "metadata": {},
   "outputs": [],
   "source": [
    "new_features_2 = transactions\\\n",
    "                    .select('client_id')\\\n",
    "                    .distinct()"
   ]
  },
  {
   "cell_type": "code",
   "execution_count": 157,
   "metadata": {},
   "outputs": [],
   "source": [
    "#alco_sum\n",
    "\n",
    "materials = spark.read.csv('materials.csv', header=True, inferSchema=True) \n",
    "\n",
    "materials_is_alco = materials\\\n",
    "                    .filter('is_alco == 1')\\\n",
    "                    .select('material')\n",
    "\n",
    "alco_sum = materials_is_alco\\\n",
    "                    .join(transactions_train,'material','inner')\\\n",
    "                    .groupby('client_id')\\\n",
    "                    .agg(F.sum('sales_sum').alias('alco_sum'))\n",
    "\n",
    "new_features_2 = new_features_2.join(alco_sum,'client_id','left')"
   ]
  },
  {
   "cell_type": "code",
   "execution_count": 158,
   "metadata": {},
   "outputs": [],
   "source": [
    "# private_sum\n",
    "\n",
    "materials_is_private = materials\\\n",
    "                        .filter('is_private_label == 1')\\\n",
    "                        .select('material')\n",
    "\n",
    "private_sum = materials_is_private\\\n",
    "                        .join(transactions_train,'material','inner')\\\n",
    "                        .groupby('client_id')\\\n",
    "                        .agg(F.sum('sales_sum').alias('private_sum'))\n",
    "\n",
    "new_features_2 = new_features_2.join(private_sum,'client_id','left')"
   ]
  },
  {
   "cell_type": "code",
   "execution_count": 159,
   "metadata": {},
   "outputs": [],
   "source": [
    "# Заменим пропущенные значения нулями.\n",
    "\n",
    "new_features_2 = new_features_2.fillna(0)"
   ]
  },
  {
   "cell_type": "code",
   "execution_count": 160,
   "metadata": {},
   "outputs": [],
   "source": [
    "new_features_2_pd = new_features_2.toPandas()"
   ]
  },
  {
   "cell_type": "code",
   "execution_count": 161,
   "metadata": {},
   "outputs": [],
   "source": [
    "client_train_pd_3 = client_train_pd_2.merge(new_features_2_pd, on = 'client_id', how =  'left')"
   ]
  },
  {
   "cell_type": "code",
   "execution_count": 162,
   "metadata": {},
   "outputs": [],
   "source": [
    "# Новые факторы, доля затрат клиента на алкогольные товары и на товары ленты\n",
    "client_train_pd_3['private_rate'] = client_train_pd_3['private_sum'] / client_train_pd_3['total_sum']\n",
    "\n",
    "client_train_pd_3['alco_rate'] = client_train_pd_3['alco_sum'] / client_train_pd_3['total_sum']"
   ]
  },
  {
   "cell_type": "code",
   "execution_count": 163,
   "metadata": {},
   "outputs": [],
   "source": [
    "LR_model_3 = LR_model(client_train_pd_3)"
   ]
  },
  {
   "cell_type": "code",
   "execution_count": 164,
   "metadata": {},
   "outputs": [
    {
     "name": "stdout",
     "output_type": "stream",
     "text": [
      "roc auc LR_model_3 =  0.701230192249344\n"
     ]
    }
   ],
   "source": [
    "print(\"roc auc LR_model_3 = \", LR_model_3[0])"
   ]
  },
  {
   "cell_type": "code",
   "execution_count": 165,
   "metadata": {},
   "outputs": [],
   "source": [
    "RF_model_3 = RF_model(client_train_pd_3)"
   ]
  },
  {
   "cell_type": "code",
   "execution_count": 166,
   "metadata": {},
   "outputs": [
    {
     "name": "stdout",
     "output_type": "stream",
     "text": [
      "roc auc RF_model_3 =  0.7007032619955577\n"
     ]
    }
   ],
   "source": [
    "print(\"roc auc RF_model_3 = \", RF_model_3[0])"
   ]
  },
  {
   "cell_type": "markdown",
   "metadata": {},
   "source": [
    "Прирост наблюдается небольшой, что говорит о слабой значимости новых признаков\n",
    "\n",
    "**LR_model_3 score = 0.7012**\n",
    "\n",
    "**RF_model_3 score = 0.7007**"
   ]
  },
  {
   "cell_type": "code",
   "execution_count": 167,
   "metadata": {},
   "outputs": [],
   "source": [
    "# Затраты на товары в зависимости от hier_level_1 \n",
    "\n",
    "material_1 = materials.select('material','hier_level_1')\n",
    "\n",
    "materials_1 =  transactions_train\\\n",
    "                        .join(material_1, 'material','left')\\\n",
    "                        .groupby('client_id')\\\n",
    "                        .pivot('hier_level_1')\\\n",
    "                        .agg(F.sum('sales_sum').alias('materials_lvl_1'))\\\n",
    "                        .fillna(0)\\\n",
    "                        .withColumnRenamed('null','null_1')"
   ]
  },
  {
   "cell_type": "code",
   "execution_count": 168,
   "metadata": {},
   "outputs": [],
   "source": [
    "# Затраты на товары в зависимости от hier_level_2\n",
    "\n",
    "material_2 = materials.select('material','hier_level_2')\n",
    "\n",
    "materials_2 =  transactions_train\\\n",
    "                        .join(material_2, 'material','left')\\\n",
    "                        .groupby('client_id')\\\n",
    "                        .pivot('hier_level_2')\\\n",
    "                        .agg(F.sum('sales_sum').alias('materials_lvl_2'))\\\n",
    "                        .fillna(0)\\\n",
    "                        .withColumnRenamed('null','null_2')\n"
   ]
  },
  {
   "cell_type": "code",
   "execution_count": 169,
   "metadata": {},
   "outputs": [],
   "source": [
    "new_features_3_pd = materials_1.join(materials_2,'client_id','left').toPandas()"
   ]
  },
  {
   "cell_type": "code",
   "execution_count": 170,
   "metadata": {},
   "outputs": [],
   "source": [
    "# В clieте_train_pd_3 содержатся прежние факторы + новые\n",
    "\n",
    "client_train_pd_4 = client_train_pd_3.merge(new_features_3_pd, on = 'client_id', how =  'left')"
   ]
  },
  {
   "cell_type": "code",
   "execution_count": 171,
   "metadata": {},
   "outputs": [],
   "source": [
    "LR_model_4 = LR_model(client_train_pd_4)"
   ]
  },
  {
   "cell_type": "code",
   "execution_count": 172,
   "metadata": {},
   "outputs": [
    {
     "name": "stdout",
     "output_type": "stream",
     "text": [
      "roc auc LR_model_4 =  0.7039052892457829\n"
     ]
    }
   ],
   "source": [
    "print(\"roc auc LR_model_4 = \", LR_model_4[0])"
   ]
  },
  {
   "cell_type": "code",
   "execution_count": 173,
   "metadata": {},
   "outputs": [],
   "source": [
    "RF_model_4 = RF_model(client_train_pd_4)"
   ]
  },
  {
   "cell_type": "code",
   "execution_count": 174,
   "metadata": {},
   "outputs": [
    {
     "name": "stdout",
     "output_type": "stream",
     "text": [
      "roc auc RF_model_4 =  0.7079168979243003\n"
     ]
    }
   ],
   "source": [
    "print(\"roc auc RF_model_4 = \", RF_model_4[0])"
   ]
  },
  {
   "cell_type": "markdown",
   "metadata": {},
   "source": [
    "Прирост совсем незначителен, на последнем этапе было добавлено около 66 признаков, что дало меньше чем 0.01 roc auc. На завершающем этапе построения итоговой модели, считаю, что нет смысла их добавлять, т.к. затратно по производительности, плюс из 66 признаков, 62 имеют разреженный тип, что не очень хорошо для использования алгоритмов на основе ансамблей деревьев.\n",
    "\n",
    "**LR_model_4 score = 0.7039**\n",
    "\n",
    "**RF_model_4 score = 0.7079**"
   ]
  },
  {
   "cell_type": "markdown",
   "metadata": {},
   "source": [
    "# <center> 3. Итоговая вероятностная модель оттока клиентов"
   ]
  },
  {
   "cell_type": "markdown",
   "metadata": {},
   "source": [
    "В качестве итоговой модели, был выбран алгоритм xgboost"
   ]
  },
  {
   "cell_type": "code",
   "execution_count": 269,
   "metadata": {},
   "outputs": [],
   "source": [
    "import hyperopt \n",
    "import xgboost as xgb\n",
    "from hyperopt import fmin, tpe, hp, STATUS_OK, Trials\n",
    "from hyperopt.fmin import fmin"
   ]
  },
  {
   "cell_type": "code",
   "execution_count": 270,
   "metadata": {},
   "outputs": [],
   "source": [
    "from xgboost import XGBClassifier\n",
    "from sklearn.model_selection import train_test_split"
   ]
  },
  {
   "cell_type": "code",
   "execution_count": 271,
   "metadata": {},
   "outputs": [],
   "source": [
    "from sklearn.metrics import roc_auc_score"
   ]
  },
  {
   "cell_type": "code",
   "execution_count": 318,
   "metadata": {},
   "outputs": [],
   "source": [
    "# Берем client_train_pd_3 в качестве обучающей выборки\n",
    "X = client_train_pd_3.drop(['client_id','churn'], axis = 1)\n",
    "y = client_train_pd_3['churn']"
   ]
  },
  {
   "cell_type": "code",
   "execution_count": 273,
   "metadata": {},
   "outputs": [],
   "source": [
    "categorical = X.select_dtypes(include = ['object']).columns\n",
    "numerical = X.drop(categorical, axis = 1).columns"
   ]
  },
  {
   "cell_type": "code",
   "execution_count": 274,
   "metadata": {},
   "outputs": [],
   "source": [
    "X_tr, X_ts, y_train, y_test = train_test_split(X, y, test_size = 0.25, random_state = 20, stratify = y, shuffle = True)"
   ]
  },
  {
   "cell_type": "code",
   "execution_count": 275,
   "metadata": {
    "scrolled": true
   },
   "outputs": [],
   "source": [
    "X_train = pd.get_dummies(X_tr, columns = categorical)\n",
    "X_test = pd.get_dummies(X_ts, columns = categorical)"
   ]
  },
  {
   "cell_type": "code",
   "execution_count": 276,
   "metadata": {},
   "outputs": [],
   "source": [
    "X_train.drop('city_none_city', axis = 1, inplace = True)"
   ]
  },
  {
   "cell_type": "code",
   "execution_count": 282,
   "metadata": {},
   "outputs": [],
   "source": [
    "def score(params):\n",
    "    print(\"training with params:\")\n",
    "    print(params)\n",
    "    params['max_depth'] = int(params['max_depth'])\n",
    "    weights = np.zeros(len(y_train))\n",
    "    weights[y_train == 0] = 1\n",
    "    weights[y_train == 1] = 2.6\n",
    "    dtrain = xgb.DMatrix(X_train, y_train, weight = weights)\n",
    "    dvalid = xgb.DMatrix(X_test, y_test)\n",
    "    model = xgb.train(params, dtrain, params['num_round'])\n",
    "    predictions = model.predict(dvalid)\n",
    "    score = -roc_auc_score(y_test, predictions)\n",
    "    print(\"\\tScore {0}\\n\\n\".format(score))\n",
    "    return {'loss':score, 'status':STATUS_OK}\n",
    "    "
   ]
  },
  {
   "cell_type": "code",
   "execution_count": 283,
   "metadata": {},
   "outputs": [],
   "source": [
    "## установим eta & num_round const, далее дофитим\n",
    "def optimize(trials):\n",
    "    space = {\n",
    "             'num_round': 100,\n",
    "             'eta':0.01,\n",
    "             'max_depth': hp.quniform('max_depth', 3, 14, 1),\n",
    "             'min_child_weight': hp.quniform('min_child_weight', 1, 10, 1),\n",
    "             'subsample': hp.quniform('subsample', 0.5, 1, 0.05),\n",
    "             'gamma': hp.quniform('gamma', 0.5, 1, 0.01),\n",
    "             'colsample_bytree': hp.quniform('colsample_bytree', 0.4, 0.9, 0.05),\n",
    "             'eval_metric': 'auc',\n",
    "             'objective': 'binary:logistic',\n",
    "             'nthread' : 4,\n",
    "             'silent' : 1\n",
    "             }\n",
    "    \n",
    "    best = fmin(score, space, algo=tpe.suggest, trials=trials, max_evals=20)\n",
    "    return best"
   ]
  },
  {
   "cell_type": "code",
   "execution_count": 284,
   "metadata": {
    "scrolled": true
   },
   "outputs": [
    {
     "name": "stdout",
     "output_type": "stream",
     "text": [
      "training with params:                                                                                                  \n",
      "{'colsample_bytree': 0.9, 'eta': 0.01, 'eval_metric': 'auc', 'gamma': 0.55, 'max_depth': 12.0, 'min_child_weight': 3.0, 'nthread': 4, 'num_round': 100, 'objective': 'binary:logistic', 'silent': 1, 'subsample': 0.9500000000000001}\n",
      "\tScore -0.7061953968617921                                                                                             \n",
      "\n",
      "\n",
      "training with params:                                                                                                  \n",
      "{'colsample_bytree': 0.45, 'eta': 0.01, 'eval_metric': 'auc', 'gamma': 0.54, 'max_depth': 12.0, 'min_child_weight': 4.0, 'nthread': 4, 'num_round': 100, 'objective': 'binary:logistic', 'silent': 1, 'subsample': 0.9500000000000001}\n",
      "\tScore -0.7092962955853841                                                                                             \n",
      "\n",
      "\n",
      "training with params:                                                                                                  \n",
      "{'colsample_bytree': 0.4, 'eta': 0.01, 'eval_metric': 'auc', 'gamma': 0.6, 'max_depth': 7.0, 'min_child_weight': 10.0, 'nthread': 4, 'num_round': 100, 'objective': 'binary:logistic', 'silent': 1, 'subsample': 0.9500000000000001}\n",
      "\tScore -0.7103379605693532                                                                                             \n",
      "\n",
      "\n",
      "training with params:                                                                                                  \n",
      "{'colsample_bytree': 0.6000000000000001, 'eta': 0.01, 'eval_metric': 'auc', 'gamma': 0.84, 'max_depth': 14.0, 'min_child_weight': 6.0, 'nthread': 4, 'num_round': 100, 'objective': 'binary:logistic', 'silent': 1, 'subsample': 0.8500000000000001}\n",
      "\tScore -0.7093396735474979                                                                                             \n",
      "\n",
      "\n",
      "training with params:                                                                                                  \n",
      "{'colsample_bytree': 0.6000000000000001, 'eta': 0.01, 'eval_metric': 'auc', 'gamma': 0.71, 'max_depth': 3.0, 'min_child_weight': 3.0, 'nthread': 4, 'num_round': 100, 'objective': 'binary:logistic', 'silent': 1, 'subsample': 0.6000000000000001}\n",
      "\tScore -0.7074567944252969                                                                                             \n",
      "\n",
      "\n",
      "training with params:                                                                                                  \n",
      "{'colsample_bytree': 0.6000000000000001, 'eta': 0.01, 'eval_metric': 'auc', 'gamma': 0.84, 'max_depth': 3.0, 'min_child_weight': 7.0, 'nthread': 4, 'num_round': 100, 'objective': 'binary:logistic', 'silent': 1, 'subsample': 0.5}\n",
      "\tScore -0.7078730541959095                                                                                             \n",
      "\n",
      "\n",
      "training with params:                                                                                                  \n",
      "{'colsample_bytree': 0.55, 'eta': 0.01, 'eval_metric': 'auc', 'gamma': 0.96, 'max_depth': 9.0, 'min_child_weight': 9.0, 'nthread': 4, 'num_round': 100, 'objective': 'binary:logistic', 'silent': 1, 'subsample': 0.9}\n",
      "\tScore -0.7113140439026786                                                                                             \n",
      "\n",
      "\n",
      "training with params:                                                                                                  \n",
      "{'colsample_bytree': 0.75, 'eta': 0.01, 'eval_metric': 'auc', 'gamma': 0.58, 'max_depth': 3.0, 'min_child_weight': 7.0, 'nthread': 4, 'num_round': 100, 'objective': 'binary:logistic', 'silent': 1, 'subsample': 0.8500000000000001}\n",
      "\tScore -0.7075304451054027                                                                                             \n",
      "\n",
      "\n",
      "training with params:                                                                                                  \n",
      "{'colsample_bytree': 0.55, 'eta': 0.01, 'eval_metric': 'auc', 'gamma': 0.87, 'max_depth': 5.0, 'min_child_weight': 5.0, 'nthread': 4, 'num_round': 100, 'objective': 'binary:logistic', 'silent': 1, 'subsample': 0.9}\n",
      "\tScore -0.7106685967721792                                                                                             \n",
      "\n",
      "\n",
      "training with params:                                                                                                  \n",
      "{'colsample_bytree': 0.6000000000000001, 'eta': 0.01, 'eval_metric': 'auc', 'gamma': 0.6900000000000001, 'max_depth': 5.0, 'min_child_weight': 5.0, 'nthread': 4, 'num_round': 100, 'objective': 'binary:logistic', 'silent': 1, 'subsample': 0.55}\n",
      "\tScore -0.7114355148663197                                                                                             \n",
      "\n",
      "\n",
      "training with params:                                                                                                  \n",
      "{'colsample_bytree': 0.4, 'eta': 0.01, 'eval_metric': 'auc', 'gamma': 0.52, 'max_depth': 4.0, 'min_child_weight': 8.0, 'nthread': 4, 'num_round': 100, 'objective': 'binary:logistic', 'silent': 1, 'subsample': 0.9500000000000001}\n",
      "\tScore -0.7077689922227226                                                                                             \n",
      "\n",
      "\n",
      "training with params:                                                                                                  \n",
      "{'colsample_bytree': 0.6000000000000001, 'eta': 0.01, 'eval_metric': 'auc', 'gamma': 0.78, 'max_depth': 9.0, 'min_child_weight': 2.0, 'nthread': 4, 'num_round': 100, 'objective': 'binary:logistic', 'silent': 1, 'subsample': 0.65}\n",
      "\tScore -0.7114220730826966                                                                                             \n",
      "\n",
      "\n",
      "training with params:                                                                                                  \n",
      "{'colsample_bytree': 0.55, 'eta': 0.01, 'eval_metric': 'auc', 'gamma': 0.67, 'max_depth': 3.0, 'min_child_weight': 5.0, 'nthread': 4, 'num_round': 100, 'objective': 'binary:logistic', 'silent': 1, 'subsample': 0.8500000000000001}\n",
      "\tScore -0.7070125068531321                                                                                             \n",
      "\n",
      "\n",
      "training with params:                                                                                                  \n",
      "{'colsample_bytree': 0.8, 'eta': 0.01, 'eval_metric': 'auc', 'gamma': 0.6, 'max_depth': 8.0, 'min_child_weight': 5.0, 'nthread': 4, 'num_round': 100, 'objective': 'binary:logistic', 'silent': 1, 'subsample': 0.8}\n",
      "\tScore -0.7127338763449662                                                                                             \n",
      "\n",
      "\n",
      "training with params:                                                                                                  \n",
      "{'colsample_bytree': 0.5, 'eta': 0.01, 'eval_metric': 'auc', 'gamma': 0.7000000000000001, 'max_depth': 12.0, 'min_child_weight': 7.0, 'nthread': 4, 'num_round': 100, 'objective': 'binary:logistic', 'silent': 1, 'subsample': 0.9}\n",
      "\tScore -0.7103381902080721                                                                                             \n",
      "\n",
      "\n",
      "training with params:                                                                                                  \n",
      "{'colsample_bytree': 0.4, 'eta': 0.01, 'eval_metric': 'auc', 'gamma': 0.9400000000000001, 'max_depth': 7.0, 'min_child_weight': 3.0, 'nthread': 4, 'num_round': 100, 'objective': 'binary:logistic', 'silent': 1, 'subsample': 0.5}\n",
      "\tScore -0.7104850362501347                                                                                             \n",
      "\n",
      "\n",
      "training with params:                                                                                                  \n",
      "{'colsample_bytree': 0.8, 'eta': 0.01, 'eval_metric': 'auc', 'gamma': 0.53, 'max_depth': 9.0, 'min_child_weight': 7.0, 'nthread': 4, 'num_round': 100, 'objective': 'binary:logistic', 'silent': 1, 'subsample': 0.8500000000000001}\n",
      "\tScore -0.7118287988871929                                                                                             \n",
      "\n",
      "\n",
      "training with params:                                                                                                  \n",
      "{'colsample_bytree': 0.65, 'eta': 0.01, 'eval_metric': 'auc', 'gamma': 0.78, 'max_depth': 7.0, 'min_child_weight': 10.0, 'nthread': 4, 'num_round': 100, 'objective': 'binary:logistic', 'silent': 1, 'subsample': 0.6000000000000001}\n",
      "\tScore -0.7126524179484228                                                                                             \n",
      "\n",
      "\n",
      "training with params:                                                                                                  \n",
      "{'colsample_bytree': 0.6000000000000001, 'eta': 0.01, 'eval_metric': 'auc', 'gamma': 0.9400000000000001, 'max_depth': 6.0, 'min_child_weight': 3.0, 'nthread': 4, 'num_round': 100, 'objective': 'binary:logistic', 'silent': 1, 'subsample': 0.75}\n",
      "\tScore -0.7119160220074345                                                                                             \n",
      "\n",
      "\n",
      "training with params:                                                                                                  \n",
      "{'colsample_bytree': 0.5, 'eta': 0.01, 'eval_metric': 'auc', 'gamma': 0.5700000000000001, 'max_depth': 8.0, 'min_child_weight': 10.0, 'nthread': 4, 'num_round': 100, 'objective': 'binary:logistic', 'silent': 1, 'subsample': 0.75}\n",
      "\tScore -0.7116760733020726                                                                                             \n",
      "\n",
      "\n",
      "100%|███████████████████████████████████████████████| 20/20 [05:45<00:00, 17.29s/trial, best loss: -0.7127338763449662]\n"
     ]
    },
    {
     "data": {
      "text/plain": [
       "{'colsample_bytree': 0.8,\n",
       " 'gamma': 0.6,\n",
       " 'max_depth': 8.0,\n",
       " 'min_child_weight': 5.0,\n",
       " 'subsample': 0.8}"
      ]
     },
     "execution_count": 284,
     "metadata": {},
     "output_type": "execute_result"
    }
   ],
   "source": [
    "trials = Trials()\n",
    "best_params = optimize(trials)\n",
    "best_params"
   ]
  },
  {
   "cell_type": "code",
   "execution_count": 285,
   "metadata": {},
   "outputs": [],
   "source": [
    "# подберем оптимальное значение eta\n",
    "def optimize1(trials1):\n",
    "    space = {\n",
    "             'num_round': 100,\n",
    "             'learning_rate': hp.quniform('eta', 0.005, 0.05, 0.005),\n",
    "             'max_depth': best_params['max_depth'],\n",
    "             'min_child_weight': best_params['min_child_weight'],\n",
    "             'subsample': best_params['subsample'],\n",
    "             'gamma':best_params['gamma'],\n",
    "             'colsample_bytree':best_params['colsample_bytree'] ,\n",
    "             'eval_metric': 'auc',\n",
    "             'objective': 'binary:logistic',\n",
    "             'nthread' : 4,\n",
    "             'silent' : 1\n",
    "             }\n",
    "    \n",
    "    best = fmin(score, space, algo=tpe.suggest, trials=trials1, max_evals=20)\n",
    "    return best"
   ]
  },
  {
   "cell_type": "code",
   "execution_count": 286,
   "metadata": {
    "scrolled": true
   },
   "outputs": [
    {
     "name": "stdout",
     "output_type": "stream",
     "text": [
      "training with params:                                                                                                  \n",
      "{'colsample_bytree': 0.8, 'eval_metric': 'auc', 'gamma': 0.6, 'learning_rate': 0.015, 'max_depth': 8.0, 'min_child_weight': 5.0, 'nthread': 4, 'num_round': 100, 'objective': 'binary:logistic', 'silent': 1, 'subsample': 0.8}\n",
      "\tScore -0.7128796890127946                                                                                             \n",
      "\n",
      "\n",
      "training with params:                                                                                                  \n",
      "{'colsample_bytree': 0.8, 'eval_metric': 'auc', 'gamma': 0.6, 'learning_rate': 0.025, 'max_depth': 8.0, 'min_child_weight': 5.0, 'nthread': 4, 'num_round': 100, 'objective': 'binary:logistic', 'silent': 1, 'subsample': 0.8}\n",
      "\tScore -0.7130761488959714                                                                                             \n",
      "\n",
      "\n",
      "training with params:                                                                                                  \n",
      "{'colsample_bytree': 0.8, 'eval_metric': 'auc', 'gamma': 0.6, 'learning_rate': 0.005, 'max_depth': 8.0, 'min_child_weight': 5.0, 'nthread': 4, 'num_round': 100, 'objective': 'binary:logistic', 'silent': 1, 'subsample': 0.8}\n",
      "\tScore -0.7118158559738897                                                                                             \n",
      "\n",
      "\n",
      "training with params:                                                                                                  \n",
      "{'colsample_bytree': 0.8, 'eval_metric': 'auc', 'gamma': 0.6, 'learning_rate': 0.01, 'max_depth': 8.0, 'min_child_weight': 5.0, 'nthread': 4, 'num_round': 100, 'objective': 'binary:logistic', 'silent': 1, 'subsample': 0.8}\n",
      "\tScore -0.7127338763449662                                                                                             \n",
      "\n",
      "\n",
      "training with params:                                                                                                  \n",
      "{'colsample_bytree': 0.8, 'eval_metric': 'auc', 'gamma': 0.6, 'learning_rate': 0.005, 'max_depth': 8.0, 'min_child_weight': 5.0, 'nthread': 4, 'num_round': 100, 'objective': 'binary:logistic', 'silent': 1, 'subsample': 0.8}\n",
      "\tScore -0.7118158559738897                                                                                             \n",
      "\n",
      "\n",
      "training with params:                                                                                                  \n",
      "{'colsample_bytree': 0.8, 'eval_metric': 'auc', 'gamma': 0.6, 'learning_rate': 0.025, 'max_depth': 8.0, 'min_child_weight': 5.0, 'nthread': 4, 'num_round': 100, 'objective': 'binary:logistic', 'silent': 1, 'subsample': 0.8}\n",
      "\tScore -0.7130761488959714                                                                                             \n",
      "\n",
      "\n",
      "training with params:                                                                                                  \n",
      "{'colsample_bytree': 0.8, 'eval_metric': 'auc', 'gamma': 0.6, 'learning_rate': 0.025, 'max_depth': 8.0, 'min_child_weight': 5.0, 'nthread': 4, 'num_round': 100, 'objective': 'binary:logistic', 'silent': 1, 'subsample': 0.8}\n",
      "\tScore -0.7130761488959714                                                                                             \n",
      "\n",
      "\n",
      "training with params:                                                                                                  \n",
      "{'colsample_bytree': 0.8, 'eval_metric': 'auc', 'gamma': 0.6, 'learning_rate': 0.015, 'max_depth': 8.0, 'min_child_weight': 5.0, 'nthread': 4, 'num_round': 100, 'objective': 'binary:logistic', 'silent': 1, 'subsample': 0.8}\n",
      "\tScore -0.7128796890127946                                                                                             \n",
      "\n",
      "\n",
      "training with params:                                                                                                  \n",
      "{'colsample_bytree': 0.8, 'eval_metric': 'auc', 'gamma': 0.6, 'learning_rate': 0.035, 'max_depth': 8.0, 'min_child_weight': 5.0, 'nthread': 4, 'num_round': 100, 'objective': 'binary:logistic', 'silent': 1, 'subsample': 0.8}\n",
      "\tScore -0.7131168107863428                                                                                             \n",
      "\n",
      "\n",
      "training with params:                                                                                                  \n",
      "{'colsample_bytree': 0.8, 'eval_metric': 'auc', 'gamma': 0.6, 'learning_rate': 0.03, 'max_depth': 8.0, 'min_child_weight': 5.0, 'nthread': 4, 'num_round': 100, 'objective': 'binary:logistic', 'silent': 1, 'subsample': 0.8}\n",
      "\tScore -0.7136506614181075                                                                                             \n",
      "\n",
      "\n",
      "training with params:                                                                                                  \n",
      "{'colsample_bytree': 0.8, 'eval_metric': 'auc', 'gamma': 0.6, 'learning_rate': 0.03, 'max_depth': 8.0, 'min_child_weight': 5.0, 'nthread': 4, 'num_round': 100, 'objective': 'binary:logistic', 'silent': 1, 'subsample': 0.8}\n",
      "\tScore -0.7136506614181075                                                                                             \n",
      "\n",
      "\n",
      "training with params:                                                                                                  \n",
      "{'colsample_bytree': 0.8, 'eval_metric': 'auc', 'gamma': 0.6, 'learning_rate': 0.04, 'max_depth': 8.0, 'min_child_weight': 5.0, 'nthread': 4, 'num_round': 100, 'objective': 'binary:logistic', 'silent': 1, 'subsample': 0.8}\n",
      "\tScore -0.7132437138934689                                                                                             \n",
      "\n",
      "\n",
      "training with params:                                                                                                  \n",
      "{'colsample_bytree': 0.8, 'eval_metric': 'auc', 'gamma': 0.6, 'learning_rate': 0.015, 'max_depth': 8.0, 'min_child_weight': 5.0, 'nthread': 4, 'num_round': 100, 'objective': 'binary:logistic', 'silent': 1, 'subsample': 0.8}\n",
      "\tScore -0.7128796890127946                                                                                             \n",
      "\n",
      "\n",
      "training with params:                                                                                                  \n",
      "{'colsample_bytree': 0.8, 'eval_metric': 'auc', 'gamma': 0.6, 'learning_rate': 0.03, 'max_depth': 8.0, 'min_child_weight': 5.0, 'nthread': 4, 'num_round': 100, 'objective': 'binary:logistic', 'silent': 1, 'subsample': 0.8}\n",
      "\tScore -0.7136506614181075                                                                                             \n",
      "\n",
      "\n",
      "training with params:                                                                                                  \n",
      "{'colsample_bytree': 0.8, 'eval_metric': 'auc', 'gamma': 0.6, 'learning_rate': 0.04, 'max_depth': 8.0, 'min_child_weight': 5.0, 'nthread': 4, 'num_round': 100, 'objective': 'binary:logistic', 'silent': 1, 'subsample': 0.8}\n",
      "\tScore -0.7132437138934689                                                                                             \n",
      "\n",
      "\n",
      "training with params:                                                                                                  \n",
      "{'colsample_bytree': 0.8, 'eval_metric': 'auc', 'gamma': 0.6, 'learning_rate': 0.02, 'max_depth': 8.0, 'min_child_weight': 5.0, 'nthread': 4, 'num_round': 100, 'objective': 'binary:logistic', 'silent': 1, 'subsample': 0.8}\n",
      "\tScore -0.7133324019503644                                                                                             \n",
      "\n",
      "\n",
      "training with params:                                                                                                  \n",
      "{'colsample_bytree': 0.8, 'eval_metric': 'auc', 'gamma': 0.6, 'learning_rate': 0.045, 'max_depth': 8.0, 'min_child_weight': 5.0, 'nthread': 4, 'num_round': 100, 'objective': 'binary:logistic', 'silent': 1, 'subsample': 0.8}\n",
      "\tScore -0.7131113509278402                                                                                             \n",
      "\n",
      "\n",
      "training with params:                                                                                                  \n",
      "{'colsample_bytree': 0.8, 'eval_metric': 'auc', 'gamma': 0.6, 'learning_rate': 0.03, 'max_depth': 8.0, 'min_child_weight': 5.0, 'nthread': 4, 'num_round': 100, 'objective': 'binary:logistic', 'silent': 1, 'subsample': 0.8}\n"
     ]
    },
    {
     "name": "stdout",
     "output_type": "stream",
     "text": [
      "\tScore -0.7136506614181075                                                                                             \n",
      "\n",
      "\n",
      "training with params:                                                                                                  \n",
      "{'colsample_bytree': 0.8, 'eval_metric': 'auc', 'gamma': 0.6, 'learning_rate': 0.02, 'max_depth': 8.0, 'min_child_weight': 5.0, 'nthread': 4, 'num_round': 100, 'objective': 'binary:logistic', 'silent': 1, 'subsample': 0.8}\n",
      "\tScore -0.7133324019503644                                                                                             \n",
      "\n",
      "\n",
      "training with params:                                                                                                  \n",
      "{'colsample_bytree': 0.8, 'eval_metric': 'auc', 'gamma': 0.6, 'learning_rate': 0.035, 'max_depth': 8.0, 'min_child_weight': 5.0, 'nthread': 4, 'num_round': 100, 'objective': 'binary:logistic', 'silent': 1, 'subsample': 0.8}\n",
      "\tScore -0.7131168107863428                                                                                             \n",
      "\n",
      "\n",
      "100%|███████████████████████████████████████████████| 20/20 [07:48<00:00, 23.43s/trial, best loss: -0.7136506614181075]\n"
     ]
    },
    {
     "data": {
      "text/plain": [
       "{'eta': 0.03}"
      ]
     },
     "execution_count": 286,
     "metadata": {},
     "output_type": "execute_result"
    }
   ],
   "source": [
    "trials1 = Trials()\n",
    "best_params1 = optimize1(trials1)\n",
    "best_params1"
   ]
  },
  {
   "cell_type": "code",
   "execution_count": 302,
   "metadata": {},
   "outputs": [],
   "source": [
    "best_params['eta'] = best_params1['eta']\n",
    "best_params['eval_metric'] = 'auc'\n",
    "best_params['objective'] = 'binary:logistic'\n",
    "best_params['nthread'] = 4\n",
    "best_params['silent'] = 1\n",
    "best_params['max_depth'] = int(best_params['max_depth'])"
   ]
  },
  {
   "cell_type": "code",
   "execution_count": 303,
   "metadata": {},
   "outputs": [
    {
     "data": {
      "text/plain": [
       "{'colsample_bytree': 0.8,\n",
       " 'gamma': 0.6,\n",
       " 'max_depth': 8,\n",
       " 'min_child_weight': 5.0,\n",
       " 'subsample': 0.8,\n",
       " 'eta': 0.03,\n",
       " 'eval_metric': 'auc',\n",
       " 'objective': 'binary:logistic',\n",
       " 'nthread': 4,\n",
       " 'silent': 1}"
      ]
     },
     "execution_count": 303,
     "metadata": {},
     "output_type": "execute_result"
    }
   ],
   "source": [
    "best_params"
   ]
  },
  {
   "cell_type": "code",
   "execution_count": 304,
   "metadata": {},
   "outputs": [],
   "source": [
    "data = pd.get_dummies(X, columns = categorical)"
   ]
  },
  {
   "cell_type": "code",
   "execution_count": 305,
   "metadata": {},
   "outputs": [],
   "source": [
    "train = xgb.DMatrix(data, y)"
   ]
  },
  {
   "cell_type": "code",
   "execution_count": 306,
   "metadata": {},
   "outputs": [],
   "source": [
    "xgbCvResult = xgb.cv(best_params, train, num_boost_round=500,  \n",
    "                      nfold=3, early_stopping_rounds=50, stratified = True, shuffle = True)"
   ]
  },
  {
   "cell_type": "code",
   "execution_count": 308,
   "metadata": {},
   "outputs": [
    {
     "data": {
      "image/png": "[encoded data removed]",
      "text/plain": [
       "<Figure size 432x288 with 1 Axes>"
      ]
     },
     "metadata": {
      "needs_background": "light"
     },
     "output_type": "display_data"
    }
   ],
   "source": [
    "plt.plot(range(xgbCvResult.shape[0]), xgbCvResult['test-auc-mean'])\n",
    "plt.plot(range(xgbCvResult.shape[0]), xgbCvResult['train-auc-mean']);"
   ]
  },
  {
   "cell_type": "code",
   "execution_count": 320,
   "metadata": {},
   "outputs": [
    {
     "data": {
      "text/plain": [
       "108"
      ]
     },
     "execution_count": 320,
     "metadata": {},
     "output_type": "execute_result"
    }
   ],
   "source": [
    "best_num_round = np.argmax(xgbCvResult['test-auc-mean'])\n",
    "best_num_round"
   ]
  },
  {
   "cell_type": "code",
   "execution_count": 317,
   "metadata": {},
   "outputs": [
    {
     "data": {
      "text/plain": [
       "0.714"
      ]
     },
     "execution_count": 317,
     "metadata": {},
     "output_type": "execute_result"
    }
   ],
   "source": [
    "best_auc_score = np.round(xgbCvResult['test-auc-mean'].max(),3)\n",
    "best_auc_score"
   ]
  },
  {
   "cell_type": "markdown",
   "metadata": {},
   "source": [
    "Для построения окончательной модели, использовался алгоритм **XGBoost**\n",
    "\n",
    "**ROC AUC SCORE = 0.714** (Превзошел все ранее построенные модели)"
   ]
  },
  {
   "cell_type": "code",
   "execution_count": 322,
   "metadata": {},
   "outputs": [],
   "source": [
    "xgb_model = xgb.train(best_params, train, best_num_round)"
   ]
  },
  {
   "cell_type": "code",
   "execution_count": 332,
   "metadata": {},
   "outputs": [
    {
     "data": {
      "text/plain": [
       "<AxesSubplot:title={'center':'Feature importance'}, xlabel='F score', ylabel='Features'>"
      ]
     },
     "execution_count": 332,
     "metadata": {},
     "output_type": "execute_result"
    },
    {
     "data": {
      "image/png": "[encoded data removed]",
      "text/plain": [
       "<Figure size 1440x2880 with 1 Axes>"
      ]
     },
     "metadata": {
      "needs_background": "light"
     },
     "output_type": "display_data"
    }
   ],
   "source": [
    "fig, axs = plt.subplots(figsize = (20,40))\n",
    "xgb.plot_importance(xgb_model,ax = axs)"
   ]
  },
  {
   "cell_type": "markdown",
   "metadata": {},
   "source": [
    "Настал момент обсудить важность признаков, выделяются среди остальных следующие:\n",
    "\n",
    "**Top 1: promo_rate** - Доля затрат на товары по акции, неожиданный признак в топе, возможно наша продуктовая сеть особо отличается лояльной скидочной политикой, что соответсвенно привлекает клиентов -> \"верный\" клиент всегда будет тратится на товары по акции т.к он \"шарит\", это его и отличает от отточных клиентов\n",
    "\n",
    "**Top 2: promo_sum** - Аналогично предыдущему пункту, только доля от общих затрат обладает большей информацией \n",
    "\n",
    "**Top 3: avg_bill** - Средний чек отражает степень лояльности покупателя, чем больше он оставляет деньги у нас, тем меньше он потратит у других. \n",
    "\n",
    "**Top 4: tg_avg_bill** - Скорость роста среднего чека со временем. Если он отрицательный -> покупатель все меньше готов приобретать товаров, соотв-но мы его теряем\n",
    "\n",
    "**Top 5: private_rate** - Доля затрат на приватные товары. Отражает степень заинтересованности клиента в конкретно \"нашей\" сети магазинов, чем больше данный показатель, тем больше клиент потратился на уникальный товар (доступен только у нас).\n",
    "\n",
    "**Top 6: private_sum** - Аналогично private_rate. (Доля в очередной раз имеет преимущество по информативности перед абсолютным значением)\n",
    "\n",
    "**Top 7: total_sum** - Аналогично avg_bill\n",
    " \n",
    "**Top 8: tg_visits** - Скорость роста частоты посещений. В случае, когда данный показатель отрицательный -> мы теряем клиента. "
   ]
  },
  {
   "cell_type": "markdown",
   "metadata": {},
   "source": [
    "## 4. Заключение\n",
    "\n",
    "* Проанализировав поведение клиентов, конкретно, распределение количества дней прошедших между походами в магазин, определена стратегия идентификации отточных клиентов.\n",
    "* Сгенерированы факторы для построения модели.\n",
    "* Разработана модель прогнозирования вероятности оттока клиента\n",
    "* Качество модели на обучающей выборке: ROC AUC = 0.714. Скор неплохой, так как данные сырые и присутствуют выбросы в наблюдениях, которые тяжело определить, например клиенты могут могут терять карту магазина и один клиент может идентифицироваться под разным ID."
   ]
  }
 ],
 "metadata": {
  "kernelspec": {
   "display_name": "Python 3",
   "language": "python",
   "name": "python3"
  },
  "language_info": {
   "codemirror_mode": {
    "name": "ipython",
    "version": 3
   },
   "file_extension": ".py",
   "mimetype": "text/x-python",
   "name": "python",
   "nbconvert_exporter": "python",
   "pygments_lexer": "ipython3",
   "version": "3.7.9"
  },
  "toc": {
   "base_numbering": 1,
   "nav_menu": {},
   "number_sections": false,
   "sideBar": true,
   "skip_h1_title": false,
   "title_cell": "Table of Contents",
   "title_sidebar": "Contents",
   "toc_cell": false,
   "toc_position": {},
   "toc_section_display": true,
   "toc_window_display": false
  },
  "varInspector": {
   "cols": {
    "lenName": 16,
    "lenType": 16,
    "lenVar": 40
   },
   "kernels_config": {
    "python": {
     "delete_cmd_postfix": "",
     "delete_cmd_prefix": "del ",
     "library": "var_list.py",
     "varRefreshCmd": "print(var_dic_list())"
    },
    "r": {
     "delete_cmd_postfix": ") ",
     "delete_cmd_prefix": "rm(",
     "library": "var_list.r",
     "varRefreshCmd": "cat(var_dic_list()) "
    }
   },
   "types_to_exclude": [
    "module",
    "function",
    "builtin_function_or_method",
    "instance",
    "_Feature"
   ],
   "window_display": false
  }
 },
 "nbformat": 4,
 "nbformat_minor": 4
}
